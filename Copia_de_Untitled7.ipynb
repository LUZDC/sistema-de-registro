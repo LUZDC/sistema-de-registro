{
  "nbformat": 4,
  "nbformat_minor": 0,
  "metadata": {
    "colab": {
      "provenance": [],
      "include_colab_link": true
    },
    "kernelspec": {
      "name": "python3",
      "display_name": "Python 3"
    },
    "language_info": {
      "name": "python"
    }
  },
  "cells": [
    {
      "cell_type": "markdown",
      "metadata": {
        "id": "view-in-github",
        "colab_type": "text"
      },
      "source": [
        "<a href=\"https://colab.research.google.com/github/LUZDC/sistema-de-registro/blob/main/Copia_de_Untitled7.ipynb\" target=\"_parent\"><img src=\"https://colab.research.google.com/assets/colab-badge.svg\" alt=\"Open In Colab\"/></a>"
      ]
    },
    {
      "cell_type": "code",
      "execution_count": null,
      "metadata": {
        "id": "XMKJyHpIEkcc",
        "colab": {
          "base_uri": "https://localhost:8080/"
        },
        "outputId": "a2b14219-750d-4dce-eb59-a765c4a80ebd"
      },
      "outputs": [
        {
          "output_type": "execute_result",
          "data": {
            "text/plain": [
              "1"
            ]
          },
          "metadata": {},
          "execution_count": 2
        }
      ],
      "source": [
        "# Clae gratuita\n",
        "1*1"
      ]
    },
    {
      "cell_type": "code",
      "source": [
        "# VARIABLES\n",
        "var1 = 1045\n",
        "var2 = 98\n",
        "var1 * var2"
      ],
      "metadata": {
        "colab": {
          "base_uri": "https://localhost:8080/"
        },
        "id": "tmTdCWtq9K28",
        "outputId": "3efe56c9-3357-44f2-d97b-930f34b4e559"
      },
      "execution_count": null,
      "outputs": [
        {
          "output_type": "execute_result",
          "data": {
            "text/plain": [
              "102410"
            ]
          },
          "metadata": {},
          "execution_count": 4
        }
      ]
    },
    {
      "cell_type": "code",
      "source": [
        "# TEXTO\n",
        "ADN = \"CGTACGATCGATCGATCGATCGATCGATCGATC\"\n",
        "ADN"
      ],
      "metadata": {
        "colab": {
          "base_uri": "https://localhost:8080/",
          "height": 35
        },
        "id": "qKEzGQMY9K5S",
        "outputId": "a57f1048-3698-4858-eac8-d55de7569af7"
      },
      "execution_count": null,
      "outputs": [
        {
          "output_type": "execute_result",
          "data": {
            "text/plain": [
              "'CGTACGATCGATCGATCGATCGATCGATCGATC'"
            ],
            "application/vnd.google.colaboratory.intrinsic+json": {
              "type": "string"
            }
          },
          "metadata": {},
          "execution_count": 5
        }
      ]
    },
    {
      "cell_type": "code",
      "source": [
        "# CONTEO\n",
        "A = ADN.count(\"A\")\n",
        "C = ADN.count(\"C\")\n",
        "T = ADN.count(\"T\")\n",
        "G = ADN.count(\"G\")\n",
        "len(ADN)"
      ],
      "metadata": {
        "colab": {
          "base_uri": "https://localhost:8080/"
        },
        "id": "FvH0y_yD9K8J",
        "outputId": "9fc63de5-f831-401e-a020-029e72485bff"
      },
      "execution_count": null,
      "outputs": [
        {
          "output_type": "execute_result",
          "data": {
            "text/plain": [
              "33"
            ]
          },
          "metadata": {},
          "execution_count": 8
        }
      ]
    },
    {
      "cell_type": "code",
      "source": [
        "# %GC\n",
        "round((G + C) / len(ADN), 2)"
      ],
      "metadata": {
        "colab": {
          "base_uri": "https://localhost:8080/"
        },
        "id": "uu8wtKio9K_B",
        "outputId": "518317bd-3dc8-499c-da68-9b3a2f2c4e0c"
      },
      "execution_count": null,
      "outputs": [
        {
          "output_type": "execute_result",
          "data": {
            "text/plain": [
              "0.52"
            ]
          },
          "metadata": {},
          "execution_count": 11
        }
      ]
    },
    {
      "cell_type": "code",
      "source": [
        "!pip install biopython"
      ],
      "metadata": {
        "colab": {
          "base_uri": "https://localhost:8080/"
        },
        "id": "S8fVejKT_DGO",
        "outputId": "194e73d7-9884-4e3a-f432-7bcb3761c278"
      },
      "execution_count": null,
      "outputs": [
        {
          "output_type": "stream",
          "name": "stdout",
          "text": [
            "Collecting biopython\n",
            "  Downloading biopython-1.84-cp310-cp310-manylinux_2_17_x86_64.manylinux2014_x86_64.whl.metadata (12 kB)\n",
            "Requirement already satisfied: numpy in /usr/local/lib/python3.10/dist-packages (from biopython) (1.26.4)\n",
            "Downloading biopython-1.84-cp310-cp310-manylinux_2_17_x86_64.manylinux2014_x86_64.whl (3.2 MB)\n",
            "\u001b[2K   \u001b[90m━━━━━━━━━━━━━━━━━━━━━━━━━━━━━━━━━━━━━━━━\u001b[0m \u001b[32m3.2/3.2 MB\u001b[0m \u001b[31m40.2 MB/s\u001b[0m eta \u001b[36m0:00:00\u001b[0m\n",
            "\u001b[?25hInstalling collected packages: biopython\n",
            "Successfully installed biopython-1.84\n"
          ]
        }
      ]
    },
    {
      "cell_type": "code",
      "source": [
        "import Bio\n",
        "from Bio.Seq import Seq"
      ],
      "metadata": {
        "id": "1yDpTx4m_r2J"
      },
      "execution_count": null,
      "outputs": []
    },
    {
      "cell_type": "code",
      "source": [
        "seq = Seq(\"CGATCGATCGATCGATCGATCGATCGATCG\")\n",
        "seq"
      ],
      "metadata": {
        "colab": {
          "base_uri": "https://localhost:8080/"
        },
        "id": "_M30nJp7_r0F",
        "outputId": "7cf10e78-822b-4094-fd5e-3500b9fdab92"
      },
      "execution_count": null,
      "outputs": [
        {
          "output_type": "execute_result",
          "data": {
            "text/plain": [
              "Seq('CGATCGATCGATCGATCGATCGATCGATCG')"
            ]
          },
          "metadata": {},
          "execution_count": 15
        }
      ]
    },
    {
      "cell_type": "code",
      "source": [
        "seq.transcribe()"
      ],
      "metadata": {
        "colab": {
          "base_uri": "https://localhost:8080/"
        },
        "id": "0H_l9qIiAFYc",
        "outputId": "49689f1b-2db0-4996-ba7c-3661ac8be655"
      },
      "execution_count": null,
      "outputs": [
        {
          "output_type": "execute_result",
          "data": {
            "text/plain": [
              "Seq('CGAUCGAUCGAUCGAUCGAUCGAUCGAUCG')"
            ]
          },
          "metadata": {},
          "execution_count": 16
        }
      ]
    },
    {
      "cell_type": "code",
      "source": [
        "seq.translate(table = 2)"
      ],
      "metadata": {
        "colab": {
          "base_uri": "https://localhost:8080/"
        },
        "id": "VnKHLeZG_rx-",
        "outputId": "16abb880-9f25-47af-a0ca-17a0c3f7da63"
      },
      "execution_count": null,
      "outputs": [
        {
          "output_type": "execute_result",
          "data": {
            "text/plain": [
              "Seq('RSIDRSIDRS')"
            ]
          },
          "metadata": {},
          "execution_count": 23
        }
      ]
    },
    {
      "cell_type": "code",
      "source": [
        "from Bio.Data import CodonTable\n",
        "\n",
        "print(CodonTable.unambiguous_dna_by_id[2])"
      ],
      "metadata": {
        "colab": {
          "base_uri": "https://localhost:8080/"
        },
        "id": "GTZIKNj6_rwK",
        "outputId": "50a80ac8-3a21-4a6e-d582-71f9ddd6f0e5"
      },
      "execution_count": null,
      "outputs": [
        {
          "output_type": "stream",
          "name": "stdout",
          "text": [
            "Table 2 Vertebrate Mitochondrial, SGC1\n",
            "\n",
            "  |  T      |  C      |  A      |  G      |\n",
            "--+---------+---------+---------+---------+--\n",
            "T | TTT F   | TCT S   | TAT Y   | TGT C   | T\n",
            "T | TTC F   | TCC S   | TAC Y   | TGC C   | C\n",
            "T | TTA L   | TCA S   | TAA Stop| TGA W   | A\n",
            "T | TTG L   | TCG S   | TAG Stop| TGG W   | G\n",
            "--+---------+---------+---------+---------+--\n",
            "C | CTT L   | CCT P   | CAT H   | CGT R   | T\n",
            "C | CTC L   | CCC P   | CAC H   | CGC R   | C\n",
            "C | CTA L   | CCA P   | CAA Q   | CGA R   | A\n",
            "C | CTG L   | CCG P   | CAG Q   | CGG R   | G\n",
            "--+---------+---------+---------+---------+--\n",
            "A | ATT I(s)| ACT T   | AAT N   | AGT S   | T\n",
            "A | ATC I(s)| ACC T   | AAC N   | AGC S   | C\n",
            "A | ATA M(s)| ACA T   | AAA K   | AGA Stop| A\n",
            "A | ATG M(s)| ACG T   | AAG K   | AGG Stop| G\n",
            "--+---------+---------+---------+---------+--\n",
            "G | GTT V   | GCT A   | GAT D   | GGT G   | T\n",
            "G | GTC V   | GCC A   | GAC D   | GGC G   | C\n",
            "G | GTA V   | GCA A   | GAA E   | GGA G   | A\n",
            "G | GTG V(s)| GCG A   | GAG E   | GGG G   | G\n",
            "--+---------+---------+---------+---------+--\n"
          ]
        }
      ]
    },
    {
      "cell_type": "code",
      "source": [
        "for id in CodonTable.unambiguous_dna_by_id:\n",
        "  print(id, CodonTable.unambiguous_dna_by_id[id].names)"
      ],
      "metadata": {
        "colab": {
          "base_uri": "https://localhost:8080/"
        },
        "id": "hGjFcoDx_rtz",
        "outputId": "8617bdf6-767e-46d5-c3de-746647336d8f"
      },
      "execution_count": null,
      "outputs": [
        {
          "output_type": "stream",
          "name": "stdout",
          "text": [
            "1 ['Standard', 'SGC0']\n",
            "2 ['Vertebrate Mitochondrial', 'SGC1']\n",
            "3 ['Yeast Mitochondrial', 'SGC2']\n",
            "4 ['Mold Mitochondrial', 'Protozoan Mitochondrial', 'Coelenterate Mitochondrial', 'Mycoplasma', 'Spiroplasma', 'SGC3']\n",
            "5 ['Invertebrate Mitochondrial', 'SGC4']\n",
            "6 ['Ciliate Nuclear', 'Dasycladacean Nuclear', 'Hexamita Nuclear', 'SGC5']\n",
            "9 ['Echinoderm Mitochondrial', 'Flatworm Mitochondrial', 'SGC8']\n",
            "10 ['Euplotid Nuclear', 'SGC9']\n",
            "11 ['Bacterial', 'Archaeal', 'Plant Plastid', None]\n",
            "12 ['Alternative Yeast Nuclear', None]\n",
            "13 ['Ascidian Mitochondrial', None]\n",
            "14 ['Alternative Flatworm Mitochondrial', None]\n",
            "15 ['Blepharisma Macronuclear', None]\n",
            "16 ['Chlorophycean Mitochondrial', None]\n",
            "21 ['Trematode Mitochondrial', None]\n",
            "22 ['Scenedesmus obliquus Mitochondrial', None]\n",
            "23 ['Thraustochytrium Mitochondrial', None]\n",
            "24 ['Pterobranchia Mitochondrial', None]\n",
            "25 ['Candidate Division SR1', 'Gracilibacteria', None]\n",
            "26 ['Pachysolen tannophilus Nuclear', None]\n",
            "27 ['Karyorelict Nuclear', None]\n",
            "28 ['Condylostoma Nuclear', None]\n",
            "29 ['Mesodinium Nuclear', None]\n",
            "30 ['Peritrich Nuclear', None]\n",
            "31 ['Blastocrithidia Nuclear', None]\n",
            "32 ['Balanophoraceae Plastid', None]\n",
            "33 ['Cephalodiscidae Mitochondrial', None]\n"
          ]
        }
      ]
    },
    {
      "cell_type": "code",
      "source": [
        "from Bio import Entrez\n",
        "Entrez.email = \"lyn@mail.com\""
      ],
      "metadata": {
        "id": "_1J7uQ8G_rru"
      },
      "execution_count": null,
      "outputs": []
    },
    {
      "cell_type": "code",
      "source": [
        "busqueda = Entrez.esearch(db = \"nucleotide\", term = \"Cloning vector pBac\")\n",
        "registro = Entrez.read(busqueda)\n",
        "registro"
      ],
      "metadata": {
        "colab": {
          "base_uri": "https://localhost:8080/"
        },
        "id": "6CvziYz2_rpp",
        "outputId": "cb29ba6c-4e06-453c-a59f-20684785a476"
      },
      "execution_count": null,
      "outputs": [
        {
          "output_type": "execute_result",
          "data": {
            "text/plain": [
              "{'Count': '35', 'RetMax': '20', 'RetStart': '0', 'IdList': ['2580284035', '2247533236', '2089725547', '1959114186', '1938232645', '1723414508', '1473096481', '1473096477', '1140334558', '1140334476', '1140334386', '1140334292', '1047836675', '1047836669', '1047836656', '1047836650', '1047836644', '1047836638', '38490698', '954037740'], 'TranslationSet': [{'From': 'Cloning vector', 'To': '\"unidentified cloning vector\"[Organism] OR Cloning vector[All Fields]'}], 'TranslationStack': [{'Term': '\"unidentified cloning vector\"[Organism]', 'Field': 'Organism', 'Count': '374', 'Explode': 'Y'}, {'Term': 'Cloning vector[All Fields]', 'Field': 'All Fields', 'Count': '563961', 'Explode': 'N'}, 'OR', 'GROUP', {'Term': 'pBac[All Fields]', 'Field': 'All Fields', 'Count': '91332', 'Explode': 'N'}, 'AND', 'GROUP'], 'QueryTranslation': '(\"unidentified cloning vector\"[Organism] OR Cloning vector[All Fields]) AND pBac[All Fields]'}"
            ]
          },
          "metadata": {},
          "execution_count": 32
        }
      ]
    },
    {
      "cell_type": "code",
      "source": [
        "from Bio import SeqIO\n",
        "file = Entrez.efetch(db = \"nucleotide\", id = 1473096477, rettype = \"gb\")\n",
        "record = SeqIO.read(file, \"gb\")\n",
        "print(record)\n",
        "\n"
      ],
      "metadata": {
        "colab": {
          "base_uri": "https://localhost:8080/"
        },
        "id": "suVM9nqP_riX",
        "outputId": "ca5b40e7-6702-40de-faf3-3b795830e16c"
      },
      "execution_count": null,
      "outputs": [
        {
          "output_type": "stream",
          "name": "stdout",
          "text": [
            "ID: MH541846.1\n",
            "Name: MH541846\n",
            "Description: Cloning vector pBac[AttB-3xP3::RFP-dsx_homology-AttP-3xP3::GFP-AttP-dsx_homology- AttB], complete sequence\n",
            "Number of features: 20\n",
            "/molecule_type=DNA\n",
            "/topology=circular\n",
            "/data_file_division=SYN\n",
            "/date=12-SEP-2018\n",
            "/accessions=['MH541846']\n",
            "/sequence_version=1\n",
            "/keywords=['']\n",
            "/source=Cloning vector pBac[AttB-3xP3::RFP-dsx_homology-AttP-3xP3::GFP-AttP-dsx_homology- AttB]\n",
            "/organism=Cloning vector pBac[AttB-3xP3::RFP-dsx_homology-AttP-3xP3::GFP-AttP-dsx_homology- AttB]\n",
            "/taxonomy=['other sequences', 'artificial sequences', 'vectors']\n",
            "/references=[Reference(title='A CRISPR-Cas9 gene drive system targeting the doublesex gene causes complete population suppression in caged populations of Anopheles gambiae mosquitoes without inducing resistance', ...), Reference(title='Direct Submission', ...)]\n",
            "/structured_comment=defaultdict(<class 'dict'>, {'Assembly-Data': {'Sequencing Technology': 'Sanger dideoxy sequencing'}})\n",
            "Seq('CTGCGCTCGGTCGTTCGGCTGCGGCGAGCGGTATCAGCTCACTCAAAGGCGGTA...TCG')\n"
          ]
        }
      ]
    },
    {
      "cell_type": "code",
      "source": [
        "print(record.seq)"
      ],
      "metadata": {
        "colab": {
          "base_uri": "https://localhost:8080/"
        },
        "id": "3ZiyzLftDy9R",
        "outputId": "4ce32e61-c819-4679-ca05-1a646ecb0137"
      },
      "execution_count": null,
      "outputs": [
        {
          "output_type": "stream",
          "name": "stdout",
          "text": [
            "CTGCGCTCGGTCGTTCGGCTGCGGCGAGCGGTATCAGCTCACTCAAAGGCGGTAATACGGTTATCCACAGAATCAGGGGATAACGCAGGAAAGAACATGTGAGCAAAAGGCCAGCAAAAGGCCAGGAACCGTAAAAAGGCCGCGTTGCTGGCGTTTTTCCATAGGCTCCGCCCCCCTGACGAGCATCACAAAAATCGACGCTCAAGTCAGAGGTGGCGAAACCCGACAGGACTATAAAGATACCAGGCGTTTCCCCCTGGAAGCTCCCTCGTGCGCTCTCCTGTTCCGACCCTGCCGCTTACCGGATACCTGTCCGCCTTTCTCCCTTCGGGAAGCGTGGCGCTTTCTCATAGCTCACGCTGTAGGTATCTCAGTTCGGTGTAGGTCGTTCGCTCCAAGCTGGGCTGTGTGCACGAACCCCCCGTTCAGCCCGACCGCTGCGCCTTATCCGGTAACTATCGTCTTGAGTCCAACCCGGTAAGACACGACTTATCGCCACTGGCAGCAGCCACTGGTAACAGGATTAGCAGAGCGAGGTATGTAGGCGGTGCTACAGAGTTCTTGAAGTGGTGGGCTAACTACGGCTACACTAGAAGAACAGTATTTGGTATCTGCGCTCTGCTGAAGCCAGTTACCTTCGGAAAAAGAGTTGGTAGCTCTTGATCCGGCAAACAAACCACCGCTGGTAGCGGTGGTTTTTTTGTTTGCAAGCAGCAGATTACGCGCAGAAAAAAAGGATCTCAAGAAGATCCTTTGATCTTTTCTACGGGGTCTGACGCTCAGTGGAACGACGCGCGCGTAACTCACGTTAAGGGATTTTGGTCATGAGCTTGCGCCGTCCCGTCAAGTCAGCGTATTTTCGAGACGTTACGCCCCGCCCTGCCACTCATCGCAGTACTGTTGTAATTCATTAAGCATTCTGCCGACATGGAAGCCATCACAAACGGCATGATGAACCTGAATCGCCAGCGGCATCAGCACCTTGTCGCCTTGCGTATAATATTTGCCCATGGTGAAAACGGGGGCGAAGAAGTTGTCCATATTGGCCACGTTTAAATCAAAACTGGTGAAACTCACCCAGGGATTGGCTGACACGAAAAACATATTCTCAATAAATCCTTTAGGGAAATAGGCCAGGTTTTCACCGTAACACGCCACATCTTGCGAATATATGTGTAGAAACTGCCGGAAATCGTCGTGGTATTCACTCCAGAGCGATGAAAACGTTTCAGTTTGCTCATGGAAAACGGTGTAACATGGGTGAACACTATCCCATATCACCAGCTCACCGTCTTTCATTGCCATACGGAATTCTGGATGAGCATTCATCAGGCGGGCAAGAATGTGAATAAAGGCCGGATAAAACTTGTGCTTATTTTTCTTTACGGTTTTTAAAAAGGCCGTAATATCCAGCTGAACGGTCTGGTTATAGGTACATTGAGCAACTGACTGAAATGCCTCAAAATGTTCTTTACGATGCCATTGGGATATATCAACGGTGGTATATCCAGTGATTTTTTTCTCCATATTCTTCCTTTTTCAATATTATTGAAGCATTTATCAGGGTTATTGTCTCATGAGCGGATACATATTTGAATGTATTTAGAAAAATAAACAAATAGGGGTCAGTGTTACAACCAATTAACCAATTCTGATGCGCGTCTCTCCCCTTTGCCTGGCGGCAGTAGCGCGGTGGTCCCACCTGACCCCATGCCGAACTCAGAAGTGAAACGCCGTAGCGCCGATGGTAGTGTGGGGACTCCCCATGCGAGAGTAGGGAACTGCCAGGCATCAAATAAAACGAAAGGCTCAGTCGAAAGACTGGGCCTTTCGCCCGGGCTAATTAGGGGGTGTCGCCCTTATTCGACTCTATAGTGAAGTTCCTATTCTCTAGAAAGTATAGGAACTTCTGAAGTGGGGTATTCACGACAGCAGGCTGAATAATAAAAAAATTAGAAACTATTATTTAACCCTAGAAAGATAATCATATTGTGACGTACGTTAAAGATAATCATGCGTAAAATTGACGCATGTGTTTTATCGGTCTGTATATCGAGGTTTATTTATTAATTTGAATAGATATTAAGTTTTATTATATTTACACTTACATACTAATAATAAATTCAACAAACAATTTATTTATGTTTATTTATTTATTAAAAAAAAACAAAAACTCAAAATTTCTTCTATAAAGTAACAAAACTTTTAAACATTCTCTCTTTTACAAAAATAAACTTATTTTGTACTTTAAAAACAGTCATGTTGTATTATAAAATAAGTAATTAGCTTAACTTATACATAATAGAAACAAATTATACTTATTAGTCAGTCAGAAACAACTTTGGCACATATCAATATTATGCTCTCGACAAATAACTTTTTTGCATTTTTTGCACGATGCATTTGCCTTTCGCCTTATTTTAGAGGGGCAGTAAGTACAGTAAGTACGTTTTTTCATTACTGGCTCTTCAGTACTGTCATCTGATGTACCAGGCACTTCATTTGGCAAAATATTAGAGATATTATCGCGCAAATATCTCTTCAAAGTAGGAGCTTCTAAACGCTTACGCATAAACGATGACGTCAGGCTCATGTAAAGGTTTCTCATAAATTTTTTGCGACTTTGAACCTTTTCTCCCTTGCTACTGACATTATGGCTGTATATAATAAAAGAATTTATGCAGGCAATGTTTATCATTCCGTACAATAATGCCATAGGCCACCTATTCGTCTTCCTACTGCAGGTGCGGGTGCCAGGGCGTGCCCTTGGGCTCCCCGGGCGCGTACTCCACCTCACCCATGCGATCGCTCCGGAAAGATACATTGATGAGTTTGGACAAACCACAACTAGAATGCAGTGAAAAAAATGCTTTATTTGTGAAATTTGTGATGCTATTGCTTTATTTGTAACCATTATAAGCTGCAATAAACAAGTTAACAACAACAATTGCATTCATTTTATGTTTCAGGTTCAGGGGGAGGTGTGGGAGGTTTTTTAAAGCAAGTAAAACCTCTACAAATGTGGTATGGCTGATTATGATCTAGAGTCGCGGCCGCTACAGGAACAGGTGGTGGCGGCCCTCGGTGCGCTCGTACTGCTCCACGATGGTGTAGTCCTCGTTGTGGGAGGTGATGTCCAGCTTGGAGTCCACGTAGTAGTAGCCGGGCAGCTGCACGGGCTTCTTGGCCATGTAGATGGACTTGAACTCCACCAGGTAGTGGCCGCCGTCCTTCAGCTTCAGGGCCTTGTGGATCTCGCCCTTCAGCACGCCGTCGCGGGGGTACAGGCGCTCGGTGGAGGCCTCCCAGCCCATGGTCTTCTTCTGCATTACGGGGCCGTCGGAGGGGAAGTTCACGCCGATGAACTTCACCTTGTAGATGAAGCAGCCGTCCTGCAGGGAGGAGTCTTGGGTCACGGTCACCACGCCGCCGTCCTCGAAGTTCATCACGCGCTCCCACTTGAAGCCCTCGGGGAAGGACAGCTTCTTGTAGTCGGGGATGTCGGCGGGGTGCTTCACGTACACCTTGGAGCCGTACTGGAACTGGGGGGACAGGATGTCCCAGGCGAAGGGCAGGGGGCCGCCCTTGGTCACCTTCAGCTTCACGGTGTTGTGGCCCTCGTAGGGGCGGCCCTCGCCCTCGCCCTCGATCTCGAACTCGTGGCCGTTCACGGTGCCCTCCATGCGCACCTTGAAGCGCATGAACTCCTTGATGACGTTCTTGGAGGAGCGCACCATGGTGGCGACCTGTGGATCCCGTCCCGGGCCCGCGGTACCGTCGACTCTAGCGGTACCCCGATTGTTTAGCTTGTTCAGCTGCGCTTGTTTATTTGCTTAGCTTTCGCTTAGCGACGTGTTCACTTTGCTTGTTTGAATTGAATTGTCGCTCCGTAGACGAAGCGCCTCTATTTATACTCCGGCGGTCGAGGGTTCGAAATCGATAAGCTTGGATCCTAATTGAATTAGCTCTAATTGAATTAGTCTCTAATTGAATTAGATCCCCGGGCGAGCTCGAATTAACCATTGTGGACCGGTCTTGTGTTTAGCAGGCAGGGGAGATGAGCGCAAACTGTGCAAGAAGAAGCATCACTGTGAAGACGGCAATGCAAAGATAGTGTGCTCAACTTCTCCGCGAAGATTGAAGCTAAATTAAGCACGAGATTAGCATGACTGAAGTGACTTTTCAAAGTGTCAGAATGGCTGCACTCGCAAACTAGCTGGATGCAGCGCAATTTTGCCCCGGTGTGTGCGCGCATGCAAACGAGCAACCGCAGAGGGCAAAGGAGAGGATGGGAAGGAGGGAGGGAGTGAAAGAGCAGGCTTAAGGTTGCCCTCGGGCATTGAAGTCGATACAGCGGTTCTATTCCAGTGCCAGTAACGATGACGAAGACGATGTTGCTTCTGCTGCTGTTGCTGCTGTTGTTGTTGATGATGATGATGATAATAGTGCAAATATAAAATAAATCTTCCGTAAGCTTTGTGTAGTGGTGCGTGGCTACTATAAGCCCGTCTGGAAGCAAGGAAGCTAGTCGGGCAGGGTCATGCAAAAGGGAGACACCTTCGGAGCTCCGGAGCTCCCGCCGGCACTCTCGGGGGGACGTCCGTTATGCGTTGTGATTTATTATGGAATATTTATTATAGTGTCTTGTTTTGAAAAAATAACTTCAACGGTTCGAATTTCCTACACCTCGAGATCGGGGCTGGAGTGGCAACGTGGTACGGAACGGTACAGCGGTTTGAGCCGTTCGGTCTTGGGACTCACGGATCGCAGAATGTTATTGTGCGCGCACTGATGGGAAAGTCATTTTTCACCGAGTGGTCAGGGCGCGTAGTCCAGTTCGTTTCTGGCTGCTGTTGCTGATGCTACGATCCTCAGGAATGATTGGAAACGCCTGGAGATGGTGGGAAAAAATCAAACACAAAAACGATCCTAATGAACATCGTGTGTTCTCATTCGCTGCCACGATTGACACCTTCGATAAGACGCACATAATGAGCTAAAGGAGAGGGGACAGGGTCTTGTCTTTGCCACGAGCGATAAGATTGCAATCACTCGTGAGCGTGTGCTGCTGGGCTGAAGAAGAAACGCTTTCCACAGCAGTAGGTGGGAAGTGGGATTGTGGAACGTGGCATTGAAAAGAACCTATTTTCTAAAGCCCGAGAGCCCGTTCTCGAACTGGAAAACCAGATGCAGAAGTTTTTTATTGTCCCCCGCCAGGAAAACAAATGTATTTAATGCTTTCTTTGCCTTTTCCGCCCCGTTTCAGACGACGAGCTAGTGAAGCGAGCCCAATGGCTGTTGGAGAAACTCGGCTACCCGTGGGAGATGATGCCCCTGATGTACGTCATACTAAAGAGCGCCGATGGCGATGTACAAAAAGCACACCAGCGGATCGACGAAGGTAAGCTGGCGATGATGGTGTCGTTCGACATCACTTTCATCACCGTGTCAGACATCTACTGTGCCTAGCACCGGGTCCAGTGGTCACAGGGTGTAGCAAAAACGTGTTCTTTTTTGCGAGAGACTCTACCTCATGATGCAGCTGTTAAGGAAAGGTTTCAGATGAAGGCAATTTTTCCTAGGATAAGATGATCTTAAGTTACCTGCGTATTAGTGTTTAACATTGTCGTCTCAACTCCCAAGAATGTTTTAATCGTCTAGGGCTAGTTTATTTATACTGTTCTCATTGAAATGTCGTTCAATCCAACATGTTAAGTTAGCTAGCTCAGACACGAGAAGTTAGGAGTATCTGCATCTTGAAGGTAGCGGCATATGGTGTTATGCCACGTTCACTGACTTCAAAATTCGATACAAAAAAAAAACCAAAACATCAAAAACCAAATTGTGAATTCCGTCAGCCAGCAGCAGTGACCTTCAAAGCCTTACCTTTCCATTCATTTATGTTTAACACAGGTCAAGGTAACGGATACGTTAACTGTCTTGGTGGTGAGGATGAGTCGGGCTGTGGGATGGATCAGATGCTACGATCGATGTCGCAGCGAGGTGAGGAAGAAACAACTTTATTATACAAAGTTGTGGCGCGCCCCCCAACTGGGGTAACCTTTGAGTTCTCTCAGTTGGGGGTTAATTAAAAGATACATTGATGAGTTTGGACAAACCACAACTAGAATGCAGTGAAAAAAATGCTTTATTTGTGAAATTTGTGATGCTATTGCTTTATTTGTAACCATTATAAGCTGCAATAAACAAGTTAACAACAACAATTGCATTCATTTTATGTTTCAGGTTCAGGGGGAGGTGTGGGAGGTTTTTTAAAGCAAGTAAAACCTCTACAAATGTGGTATGGCTGATTATGATCTAGAGTCGCGGCCGCTTTACTTGTACAGCTCGTCCATGCCGAGAGTGATCCCGGCGGCGGTCACGAACTCCAGCAGGACCATGTGATCGCGCTTCTCGTTGGGGTCTTTGCTCAGGGCGGACTGGGTGCTCAGGTAGTGGTTGTCGGGCAGCAGCACGGGGCCGTCGCCGATGGGGGTGTTCTGCTGGTAGTGGTCGGCGAGCTGCACGCTGCCGTCCTCGATGTTGTGGCGGATCTTGAAGTTCACCTTGATGCCGTTCTTCTGCTTGTCGGCCATGATATAGACGTTGTGGCTGTTGTAGTTGTACTCCAGCTTGTGCCCCAGGATGTTGCCGTCCTCCTTGAAGTCGATGCCCTTCAGCTCGATGCGGTTCACCAGGGTGTCGCCCTCGAACTTCACCTCGGCGCGGGTCTTGTAGTTGCCGTCGTCCTTGAAGAAGATGGTGCGCTCCTGGACGTAGCCTTCGGGCATGGCGGACTTGAAGAAGTCGTGCTGCTTCATGTGGTCGGGGTAGCGGCTGAAGCACTGCACGCCGTAGGTCAGGGTGGTCACGAGGGTGGGCCAGGGCACGGGCAGCTTGCCGGTGGTGCAGATGAACTTCAGGGTCAGCTTGCCGTAGGTGGCATCGCCCTCGCCCTCGCCGGACACGCTGAACTTGTGGCCGTTTACGTCGCCGTCCAGCTCGACCAGGATGGGCACCACCCCGGTGAACAGCTCCTCGCCCTTGCTCACCATGGTGGCGACCGGTGGATCCCGGGCCCGCGGTACCGTCGACTCTAGCGGTACCCCGATTGTTTAGCTTGTTCAGCTGCGCTTGTTTATTTGCTTAGCTTTCGCTTAGCGACGTGTTCACTTTGCTTGTTTGAATTGAATTGTCGCTCCGTAGACGAAGCGCCTCTATTTATACTCCGGCGGTCGAGGGTTCGAAATCGATAAGCTTGGATCCTAATTGAATTAGCTCTAATTGAATTAGTCTCTAATTGAATTAGATCCCCGGGCGAGCTCGAATTAACCATTGTGGTTAATTAACCCCCAACTGAGAGAACTCAAAGGTTACCCCAGTTGGGGGGCGCGCCCAACTTTGTATAGAAAAGTTGGGTGAGTGAGGAGGAGGGTGGTAGTGCCACACAGAGAGCTTCGCGGTGGTCAACGAATACTCACGATTGCATAATCTGAACATGTTTGATGGCGTGGAGTTGCGCAATACCACCCGTCAGAGTGGATGATAAACTTTCCGCACCACTGTAACTGTCCGTATCTTTGTATGTGGGTGTGTGTATGTGTGTTTGGTGAAACGAATTCAATAGTTCTGTGCTATTTTAAATCAAGCCGCGTGCGCAACTGATGCCGATAAGTTCAAACTAGTGTTTAAGGAGTGGAGCGAGAGAGCCGCACCACGGTACAGAAGGGCAGCAGAATGGGTCGGCAGCCTAGCTGCACTGGTGCGGTGCGTCCGGCGTCTCGGGGGGAGGGCGAGGAAATTCTAGTGTTAAATCGGAGCAGCAAAAACAAAACAGTGGTCGTCCCGTTCAAGAAACGGCCTGTACACACACACAGAAAACACTGCAGCATGTTTGTACATAGTAGATCCTAGAGCAGGTGGTCGTTGCTCCTCGAACGCTCTGGACGCACGGCTTCGCGCGTATTTGCGTAGCGTTCCGCCGATCGTGGGTATTCGTACTGCCACAAGCCCGCTTTCTCCCATGCAATCTCTGCAACCAAACCAACAAACAACAACAAAAAACCAATCGACAAAATGAATCACACCCCTTTTGTATCATCTGTATATTCTTGTTCTTTGCGTTCTTTTCTATGTGGCCCACGCCCCGGCGGGTACGTAATTGCGTCGAAAACCCCGAAAACCCCGGCACATACAGTGTACATACGGTTTGAGGACAACTTTGACCTGCAGCCCTTCTGGGGTTGCCACGTGTAGCTATACTTGTGAGATCGGGCGCCGACGGTGTAAAGCGCGAATGGCCGCCACACAGTGTGTCCACTCCAACACTACCCCTCTGGAACTACCCCGTCCAGGGATGCACCGGCTCGGCTCATGCCCCTGCAAAACAGTCCGGGCTCCACTGTAGTAGCTCCGGCGTTGCTCTGAGAGAAGGATGCCCTTCGAAGTGTCGAAAGCGTGCATTGGGCGTTCAAGTGTGTGTGTGTGTGTTAGGTTTAGCGAGAAACAGCAGCAGTTGCGTGTGCTGAAAAGCGAAGGAGTAATAGAGTGCATAATGAAAATGAAAATGAAAATGAAGCAAAAGTAGAAGGCGGAGGAGAGCAACCTGTGTTCCACTAGTAGCGAATAGTTTAGTCTAGTTTCGTCACCAATCAACCTTCCAACCATCGTTCAACCAATACCTGAGTCAACATCGTCATCGTTATCGTGCCACAACTTTATTAAAAATGAACCTTGTCCGCGCCACCGTAGGGTGATCTAAGGCGACCTTTCTTACGGGCGCGACCCACATGCCATCGTCACCTTCTCCAATCAAAACCAACAGCCTGTACCGATGGTGTGCAATTGTGCGTGCGTGTGTGTTATTAGCAAAAAAAGAGAAAGAGTCGACGAGAGAGAGATAGATCGAGATCGAGAGTACAAAAGAGCAGTAGAAATGTTCGTTGTTTGTTTTTCGTAACACAGTTGTTTAGCCAAAATGGGAATTTCCAATAATCCCGGGGGCGGGGAAATGCGGGAATACTGCGTACACACATACATCAATCAAAAAGAAAAATCCTTGCGCTACATCACTACCGTTTGCGCGGTGCTGATCTAGAGCAGACCACTTTCCACTCCACTCTACAATCAATCAATCTGTGCAGAAGGTATGGTAAGACGGCCTTTGAGCGAGTCACGGTCGCCACCATAACGCCGTCCGACGAGGGCTGAATGCGAACTTTGCTAATCGATTTTCCGCTTTCTTTTTATCCCACCTCCTTTTCTCTCCCTCTCTCTCTTTTGCACTGCCCCTTGTAACCCCCAAAAAGGTAAACGACACATTAAGACCTACGAAGCGTTGGTGAAGTCATCGCTCGATCCGAACAGCGACCGGCTGACGGAGGACGACGACGAGGACGAGAACATCTCGGTGACCCGCACCACGCGTGGGTCCCATGGGTGAGGTGGAGTACGCGCCCGGGGAGCCCAAGGGCACGCCCTGGCACCCGCAGATCTCGGATCTGACAATGTTCAGTGCAGAGACTCGGCTACGCCTCGTGGACTTTGAAGTTGACCAACAATGTTTATTCTTACCTCTAATAGTCCTCTGTGGCAAGGTCAAGATTCTGTTAGAAGCCAATGAAGAACCTGGTTGTTCAATAACATTTTGTTCGTCTAATATTTCACTACCGCTTGACGTTGGCTGCACTTCATGTACCTCATCTATAAACGCTTCTTCTGTATCGCTCTGGACGTCATCTTCACTTACGTGATCTGATATTTCACTGTCAGAATCCTCACCAACAAGCTCGTCATCGCTTTGCAGAAGAGCAGAGAGGATATGCTCATCGTCTAAAGAACTACCCATTTTATTATATATTAGTCACGATATCTATAACAAGAAAATATATATATAATAAGTTATCACGTAAGTAGAACATGAAATAACAATATAATTATCGTATGAGTTAAATCTTAAAAGTCACGTAAAAGATAATCATGCGTCATTTTGACTCACGCGGTCGTTATAGTTCAAAATCAGTGACACTTACCGCATTGACAAGCACGCCTCACGGGAGCTCCAAGCGGCGACTGAGATGTCCTAAATGCACAGCGACGGATTCGCGCTATTTAGAAAGAGAGAGCAATATTTCAAGAATGCATGCGTCAATTTTACGCAGACTATCTTTCTAGGGTTAAAAAAGATTTGCGAAAATGAAGTGAAGTTCCTATACTTTCTAGAGAATAGGAACTTCTATAGTGAGTCGAATAAGGGCGACACAAAATTTATTCTAAATGCATAATAAATACTGATAACATCTTATAGTTTGTATTATATTTTGTATTATCGTTGACATGTATAATTTTGATATCAAAAACTGATTTTCCCTTTATTATTTTCGAGATTTATTTTCTTAATTCTCTTTAACAAACTAGAAATATTGTATATACAAAAAATCATAAATAATAGATGAATAGTTTAATTATAGGTGTTCATCAATCGAAAAAGCAACGTATCTTATTTAAAGTGCGTTGCTTTTTTCTCATTTATAAGGTTAAATAATTCTCATATATCAAGCAAAGTGACAGGCGCCCTTAAATATTCTGACAAATGCTCTTTCCCTAAACTCCCCCCATAAAAAAACCCGCCGAAGCGGGTTTTTACGTTATTTGCGGATTAACGATTACTCGTTATCAGAACCGCCCAGGGGGCCCGAGCTTAAGACTGGCCGTCGTTTTACAACACAGAAAGAGTTTGTAGAAACGCAAAAAGGCCATCCGTCAGGGGCCTTCTGCTTAGTTTGATGCCTGGCAGTTCCCTACTCTCGCCTTCCGCTTCCTCGCTCACTGACTCG\n"
          ]
        }
      ]
    },
    {
      "cell_type": "code",
      "source": [
        "!pip install dna_features_viewer"
      ],
      "metadata": {
        "colab": {
          "base_uri": "https://localhost:8080/"
        },
        "id": "TBHtUpRpDbpr",
        "outputId": "d9071ff5-3cc8-4785-d924-9032124fb0c7"
      },
      "execution_count": null,
      "outputs": [
        {
          "output_type": "stream",
          "name": "stdout",
          "text": [
            "Collecting dna_features_viewer\n",
            "  Downloading dna_features_viewer-3.1.3-py3-none-any.whl.metadata (2.0 kB)\n",
            "Requirement already satisfied: matplotlib>=3 in /usr/local/lib/python3.10/dist-packages (from dna_features_viewer) (3.8.0)\n",
            "Requirement already satisfied: Biopython in /usr/local/lib/python3.10/dist-packages (from dna_features_viewer) (1.84)\n",
            "Requirement already satisfied: packaging in /usr/local/lib/python3.10/dist-packages (from dna_features_viewer) (24.2)\n",
            "Requirement already satisfied: contourpy>=1.0.1 in /usr/local/lib/python3.10/dist-packages (from matplotlib>=3->dna_features_viewer) (1.3.1)\n",
            "Requirement already satisfied: cycler>=0.10 in /usr/local/lib/python3.10/dist-packages (from matplotlib>=3->dna_features_viewer) (0.12.1)\n",
            "Requirement already satisfied: fonttools>=4.22.0 in /usr/local/lib/python3.10/dist-packages (from matplotlib>=3->dna_features_viewer) (4.55.3)\n",
            "Requirement already satisfied: kiwisolver>=1.0.1 in /usr/local/lib/python3.10/dist-packages (from matplotlib>=3->dna_features_viewer) (1.4.7)\n",
            "Requirement already satisfied: numpy<2,>=1.21 in /usr/local/lib/python3.10/dist-packages (from matplotlib>=3->dna_features_viewer) (1.26.4)\n",
            "Requirement already satisfied: pillow>=6.2.0 in /usr/local/lib/python3.10/dist-packages (from matplotlib>=3->dna_features_viewer) (11.0.0)\n",
            "Requirement already satisfied: pyparsing>=2.3.1 in /usr/local/lib/python3.10/dist-packages (from matplotlib>=3->dna_features_viewer) (3.2.0)\n",
            "Requirement already satisfied: python-dateutil>=2.7 in /usr/local/lib/python3.10/dist-packages (from matplotlib>=3->dna_features_viewer) (2.8.2)\n",
            "Requirement already satisfied: six>=1.5 in /usr/local/lib/python3.10/dist-packages (from python-dateutil>=2.7->matplotlib>=3->dna_features_viewer) (1.17.0)\n",
            "Downloading dna_features_viewer-3.1.3-py3-none-any.whl (31 kB)\n",
            "Installing collected packages: dna_features_viewer\n",
            "Successfully installed dna_features_viewer-3.1.3\n"
          ]
        }
      ]
    },
    {
      "cell_type": "code",
      "source": [
        "!pip install matplotlib"
      ],
      "metadata": {
        "colab": {
          "base_uri": "https://localhost:8080/"
        },
        "id": "F89rn6vNDswJ",
        "outputId": "3568f6ff-e92e-4919-fca4-98091f4223c7"
      },
      "execution_count": null,
      "outputs": [
        {
          "output_type": "stream",
          "name": "stdout",
          "text": [
            "Requirement already satisfied: matplotlib in /usr/local/lib/python3.10/dist-packages (3.8.0)\n",
            "Requirement already satisfied: contourpy>=1.0.1 in /usr/local/lib/python3.10/dist-packages (from matplotlib) (1.3.1)\n",
            "Requirement already satisfied: cycler>=0.10 in /usr/local/lib/python3.10/dist-packages (from matplotlib) (0.12.1)\n",
            "Requirement already satisfied: fonttools>=4.22.0 in /usr/local/lib/python3.10/dist-packages (from matplotlib) (4.55.3)\n",
            "Requirement already satisfied: kiwisolver>=1.0.1 in /usr/local/lib/python3.10/dist-packages (from matplotlib) (1.4.7)\n",
            "Requirement already satisfied: numpy<2,>=1.21 in /usr/local/lib/python3.10/dist-packages (from matplotlib) (1.26.4)\n",
            "Requirement already satisfied: packaging>=20.0 in /usr/local/lib/python3.10/dist-packages (from matplotlib) (24.2)\n",
            "Requirement already satisfied: pillow>=6.2.0 in /usr/local/lib/python3.10/dist-packages (from matplotlib) (11.0.0)\n",
            "Requirement already satisfied: pyparsing>=2.3.1 in /usr/local/lib/python3.10/dist-packages (from matplotlib) (3.2.0)\n",
            "Requirement already satisfied: python-dateutil>=2.7 in /usr/local/lib/python3.10/dist-packages (from matplotlib) (2.8.2)\n",
            "Requirement already satisfied: six>=1.5 in /usr/local/lib/python3.10/dist-packages (from python-dateutil>=2.7->matplotlib) (1.17.0)\n"
          ]
        }
      ]
    },
    {
      "cell_type": "code",
      "source": [
        "from dna_features_viewer import GraphicFeature, GraphicRecord\n",
        "\n",
        "carac = [GraphicFeature(start = 10, end = 50, strand = +1, color = \"red\", label = \"Promotor1\"),\n",
        "         GraphicFeature(start = 50, end = 550, strand = +1, color = \"orange\", label = \"Gen1\"),\n",
        "         GraphicFeature(start = 800, end = 850, strand = -1, color = \"blue\", label = \"Promotor2\"),\n",
        "         GraphicFeature(start = 300, end = 800, strand = -1, color = \"green\", label = \"Gen2\")]\n",
        "\n",
        "graphic = GraphicRecord(sequence_length= 1000, features = carac)\n",
        "graphic.plot()\n"
      ],
      "metadata": {
        "colab": {
          "base_uri": "https://localhost:8080/",
          "height": 351
        },
        "id": "0aZ0rX-NDtN2",
        "outputId": "ab897d94-ed57-42f3-8d23-782982d49c87"
      },
      "execution_count": null,
      "outputs": [
        {
          "output_type": "execute_result",
          "data": {
            "text/plain": [
              "(<Axes: >,\n",
              " ({GF(Promotor1, 10-50 (1)): 0,\n",
              "   GF(Gen1, 50-550 (1)): 0,\n",
              "   GF(Promotor2, 800-850 (-1)): 0,\n",
              "   GF(Gen2, 300-800 (-1)): 1.0},\n",
              "  {GF(Promotor2, 800-850 (-1)): {'feature_y': 0, 'annotation_y': 2.0},\n",
              "   GF(Promotor1, 10-50 (1)): {'feature_y': 0, 'annotation_y': 1.0}}))"
            ]
          },
          "metadata": {},
          "execution_count": 44
        },
        {
          "output_type": "display_data",
          "data": {
            "text/plain": [
              "<Figure size 800x220 with 1 Axes>"
            ],
            "image/png": "[encoded data removed]"
          },
          "metadata": {}
        }
      ]
    },
    {
      "cell_type": "code",
      "source": [
        "from dna_features_viewer import BiopythonTranslator\n",
        "\n",
        "graphic = BiopythonTranslator().translate_record(record)\n",
        "graphic.plot()"
      ],
      "metadata": {
        "colab": {
          "base_uri": "https://localhost:8080/",
          "height": 1000
        },
        "id": "9r19lJR8ExjP",
        "outputId": "2f164854-c37c-41d1-fe4b-1755980278af"
      },
      "execution_count": null,
      "outputs": [
        {
          "output_type": "execute_result",
          "data": {
            "text/plain": [
              "(<Axes: >,\n",
              " ({GF(source, 0-10835 (1)): 0,\n",
              "   GF(origin of replication, 97-770 (-1)): 1.0,\n",
              "   GF(Chlor-R, 867-1527 (-1)): 1.0,\n",
              "   GF(Chlor-R, 867-1527 (-1)): 2.0,\n",
              "   GF(piggyBac, 1918-2745 (-1)): 1.0,\n",
              "   GF(AttB, 2745-2801 (1)): 1.0,\n",
              "   GF(SV40, 2815-3045 (-1)): 1.0,\n",
              "   GF(DsRed, 3056-3737 (-1)): 1.0,\n",
              "   GF(DsRed, 3056-3737 (-1)): 2.0,\n",
              "   GF(3xP3, 3777-4028 (-1)): 1.0,\n",
              "   GF(dsx homology arm, 4034-5919 (1)): 1.0,\n",
              "   GF(AttP, 6045-6084 (1)): 1.0,\n",
              "   GF(SV40, 6092-6322 (-1)): 1.0,\n",
              "   GF(GFP, 6335-7055 (-1)): 1.0,\n",
              "   GF(GFP, 6335-7055 (-1)): 2.0,\n",
              "   GF(3xP3, 7090-7341 (-1)): 1.0,\n",
              "   GF(AttP, 7349-7388 (-1)): 1.0,\n",
              "   GF(dsx homology arm, 7460-9421 (1)): 1.0,\n",
              "   GF(AttB, 9434-9490 (-1)): 1.0,\n",
              "   GF(piggyBac, 9490-10191 (1)): 1.0},\n",
              "  {GF(dsx homology arm, 7460-9421 (1)): {'feature_y': 1.0,\n",
              "    'annotation_y': 3.0},\n",
              "   GF(dsx homology arm, 4034-5919 (1)): {'feature_y': 1.0,\n",
              "    'annotation_y': 3.0},\n",
              "   GF(piggyBac, 1918-2745 (-1)): {'feature_y': 1.0, 'annotation_y': 4.0},\n",
              "   GF(GFP, 6335-7055 (-1)): {'feature_y': 1.0, 'annotation_y': 6.0},\n",
              "   GF(GFP, 6335-7055 (-1)): {'feature_y': 2.0, 'annotation_y': 7.0},\n",
              "   GF(piggyBac, 9490-10191 (1)): {'feature_y': 1.0, 'annotation_y': 2.0},\n",
              "   GF(DsRed, 3056-3737 (-1)): {'feature_y': 1.0, 'annotation_y': 5.0},\n",
              "   GF(DsRed, 3056-3737 (-1)): {'feature_y': 2.0, 'annotation_y': 6.0},\n",
              "   GF(origin of replication, 97-770 (-1)): {'feature_y': 1.0,\n",
              "    'annotation_y': 3.0},\n",
              "   GF(Chlor-R, 867-1527 (-1)): {'feature_y': 1.0, 'annotation_y': 5.0},\n",
              "   GF(Chlor-R, 867-1527 (-1)): {'feature_y': 2.0, 'annotation_y': 6.0},\n",
              "   GF(3xP3, 3777-4028 (-1)): {'feature_y': 1.0, 'annotation_y': 4.0},\n",
              "   GF(3xP3, 7090-7341 (-1)): {'feature_y': 1.0, 'annotation_y': 4.0},\n",
              "   GF(SV40, 2815-3045 (-1)): {'feature_y': 1.0, 'annotation_y': 3.0},\n",
              "   GF(SV40, 6092-6322 (-1)): {'feature_y': 1.0, 'annotation_y': 4.0},\n",
              "   GF(AttB, 2745-2801 (1)): {'feature_y': 1.0, 'annotation_y': 7.0},\n",
              "   GF(AttB, 9434-9490 (-1)): {'feature_y': 1.0, 'annotation_y': 4.0},\n",
              "   GF(AttP, 6045-6084 (1)): {'feature_y': 1.0, 'annotation_y': 5.0},\n",
              "   GF(AttP, 7349-7388 (-1)): {'feature_y': 1.0, 'annotation_y': 5.0}}))"
            ]
          },
          "metadata": {},
          "execution_count": 45
        },
        {
          "output_type": "display_data",
          "data": {
            "text/plain": [
              "<Figure size 800x420 with 1 Axes>"
            ],
            "image/png": "[encoded data removed]"
          },
          "metadata": {}
        }
      ]
    },
    {
      "cell_type": "code",
      "source": [
        "import matplotlib.pyplot as plt\n",
        "import numpy as np\n",
        "\n",
        "\n",
        "fig, (ax1, ax2) = plt.subplots(2, 1, figsize = (12, 4))\n",
        "\n",
        "\n",
        "graphic = BiopythonTranslator().translate_record(record)\n",
        "graphic.plot(ax = ax1)\n",
        "\n",
        "gc = []\n",
        "\n",
        "for i in range(len(graphic.sequence) - 100):\n",
        "  count = 0\n",
        "  seq = graphic.sequence[i:i+100]\n",
        "  for n in seq:\n",
        "    if n in \"GC\":\n",
        "      count += 1\n",
        "\n",
        "  gc.append(count)\n",
        "\n",
        "x = np.arange(len(graphic.sequence) - 100)\n",
        "\n",
        "ax2.fill_between(x, gc, alpha = 0.5)\n",
        "\n",
        "plt.show()"
      ],
      "metadata": {
        "colab": {
          "base_uri": "https://localhost:8080/",
          "height": 368
        },
        "id": "hqpsVe5SFI94",
        "outputId": "568a1085-c328-4ce1-8915-382adfc241b1"
      },
      "execution_count": null,
      "outputs": [
        {
          "output_type": "display_data",
          "data": {
            "text/plain": [
              "<Figure size 1200x400 with 2 Axes>"
            ],
            "image/png": "[encoded data removed]"
          },
          "metadata": {}
        }
      ]
    },
    {
      "cell_type": "code",
      "source": [
        "import pandas as pd\n",
        "import seaborn as sns\n",
        "\n",
        "df = pd.read_csv(\"https://raw.githubusercontent.com/LuisPerezTimana/Taller/refs/heads/main/hmap.csv\")\n",
        "df"
      ],
      "metadata": {
        "colab": {
          "base_uri": "https://localhost:8080/",
          "height": 423
        },
        "id": "9_DFnDK4HMBR",
        "outputId": "c309fcfe-053f-4d63-9779-8c6e755dd669"
      },
      "execution_count": null,
      "outputs": [
        {
          "output_type": "execute_result",
          "data": {
            "text/plain": [
              "    Unnamed: 0   Gene         A         B         C         D         E  \\\n",
              "0            0  B-CHI  4.505700  3.260360 -1.249400  8.898070  8.059550   \n",
              "1            1   CTL2  3.508560  1.660790 -1.856680 -2.573360 -1.373700   \n",
              "2            2  B-CHI  2.160030  3.146520  0.982809  9.024300  6.058320   \n",
              "3            3   CTL2  1.884750  2.295690  0.408891 -3.914040 -2.280490   \n",
              "4            4   CHIV  0.255193 -0.761204 -1.022350  3.650590  2.465250   \n",
              "..         ...    ...       ...       ...       ...       ...       ...   \n",
              "59          59     GT  2.494520 -1.424300 -3.922860  5.058650  3.221320   \n",
              "60          60   GT18  0.246712  0.633894  0.379892  3.528580  3.323050   \n",
              "61          61   LOX1  2.653190  0.542016 -2.114000 -1.008330 -0.556431   \n",
              "62          62   LOX2  2.364060  3.112600  0.743919  0.704424  0.196137   \n",
              "63          63   LOX3 -3.106910 -1.796660  1.304060  0.000000  4.153708   \n",
              "\n",
              "           F  \n",
              "0  -0.842803  \n",
              "1   1.196000  \n",
              "2  -2.967420  \n",
              "3   1.628820  \n",
              "4  -1.188140  \n",
              "..       ...  \n",
              "59 -1.843140  \n",
              "60 -0.204698  \n",
              "61  0.008976  \n",
              "62 -0.513449  \n",
              "63  4.242976  \n",
              "\n",
              "[64 rows x 8 columns]"
            ],
            "text/html": [
              "\n",
              "  <div id=\"df-ae06a9aa-fa30-43a2-82fe-2b9e04c05f9d\" class=\"colab-df-container\">\n",
              "    <div>\n",
              "<style scoped>\n",
              "    .dataframe tbody tr th:only-of-type {\n",
              "        vertical-align: middle;\n",
              "    }\n",
              "\n",
              "    .dataframe tbody tr th {\n",
              "        vertical-align: top;\n",
              "    }\n",
              "\n",
              "    .dataframe thead th {\n",
              "        text-align: right;\n",
              "    }\n",
              "</style>\n",
              "<table border=\"1\" class=\"dataframe\">\n",
              "  <thead>\n",
              "    <tr style=\"text-align: right;\">\n",
              "      <th></th>\n",
              "      <th>Unnamed: 0</th>\n",
              "      <th>Gene</th>\n",
              "      <th>A</th>\n",
              "      <th>B</th>\n",
              "      <th>C</th>\n",
              "      <th>D</th>\n",
              "      <th>E</th>\n",
              "      <th>F</th>\n",
              "    </tr>\n",
              "  </thead>\n",
              "  <tbody>\n",
              "    <tr>\n",
              "      <th>0</th>\n",
              "      <td>0</td>\n",
              "      <td>B-CHI</td>\n",
              "      <td>4.505700</td>\n",
              "      <td>3.260360</td>\n",
              "      <td>-1.249400</td>\n",
              "      <td>8.898070</td>\n",
              "      <td>8.059550</td>\n",
              "      <td>-0.842803</td>\n",
              "    </tr>\n",
              "    <tr>\n",
              "      <th>1</th>\n",
              "      <td>1</td>\n",
              "      <td>CTL2</td>\n",
              "      <td>3.508560</td>\n",
              "      <td>1.660790</td>\n",
              "      <td>-1.856680</td>\n",
              "      <td>-2.573360</td>\n",
              "      <td>-1.373700</td>\n",
              "      <td>1.196000</td>\n",
              "    </tr>\n",
              "    <tr>\n",
              "      <th>2</th>\n",
              "      <td>2</td>\n",
              "      <td>B-CHI</td>\n",
              "      <td>2.160030</td>\n",
              "      <td>3.146520</td>\n",
              "      <td>0.982809</td>\n",
              "      <td>9.024300</td>\n",
              "      <td>6.058320</td>\n",
              "      <td>-2.967420</td>\n",
              "    </tr>\n",
              "    <tr>\n",
              "      <th>3</th>\n",
              "      <td>3</td>\n",
              "      <td>CTL2</td>\n",
              "      <td>1.884750</td>\n",
              "      <td>2.295690</td>\n",
              "      <td>0.408891</td>\n",
              "      <td>-3.914040</td>\n",
              "      <td>-2.280490</td>\n",
              "      <td>1.628820</td>\n",
              "    </tr>\n",
              "    <tr>\n",
              "      <th>4</th>\n",
              "      <td>4</td>\n",
              "      <td>CHIV</td>\n",
              "      <td>0.255193</td>\n",
              "      <td>-0.761204</td>\n",
              "      <td>-1.022350</td>\n",
              "      <td>3.650590</td>\n",
              "      <td>2.465250</td>\n",
              "      <td>-1.188140</td>\n",
              "    </tr>\n",
              "    <tr>\n",
              "      <th>...</th>\n",
              "      <td>...</td>\n",
              "      <td>...</td>\n",
              "      <td>...</td>\n",
              "      <td>...</td>\n",
              "      <td>...</td>\n",
              "      <td>...</td>\n",
              "      <td>...</td>\n",
              "      <td>...</td>\n",
              "    </tr>\n",
              "    <tr>\n",
              "      <th>59</th>\n",
              "      <td>59</td>\n",
              "      <td>GT</td>\n",
              "      <td>2.494520</td>\n",
              "      <td>-1.424300</td>\n",
              "      <td>-3.922860</td>\n",
              "      <td>5.058650</td>\n",
              "      <td>3.221320</td>\n",
              "      <td>-1.843140</td>\n",
              "    </tr>\n",
              "    <tr>\n",
              "      <th>60</th>\n",
              "      <td>60</td>\n",
              "      <td>GT18</td>\n",
              "      <td>0.246712</td>\n",
              "      <td>0.633894</td>\n",
              "      <td>0.379892</td>\n",
              "      <td>3.528580</td>\n",
              "      <td>3.323050</td>\n",
              "      <td>-0.204698</td>\n",
              "    </tr>\n",
              "    <tr>\n",
              "      <th>61</th>\n",
              "      <td>61</td>\n",
              "      <td>LOX1</td>\n",
              "      <td>2.653190</td>\n",
              "      <td>0.542016</td>\n",
              "      <td>-2.114000</td>\n",
              "      <td>-1.008330</td>\n",
              "      <td>-0.556431</td>\n",
              "      <td>0.008976</td>\n",
              "    </tr>\n",
              "    <tr>\n",
              "      <th>62</th>\n",
              "      <td>62</td>\n",
              "      <td>LOX2</td>\n",
              "      <td>2.364060</td>\n",
              "      <td>3.112600</td>\n",
              "      <td>0.743919</td>\n",
              "      <td>0.704424</td>\n",
              "      <td>0.196137</td>\n",
              "      <td>-0.513449</td>\n",
              "    </tr>\n",
              "    <tr>\n",
              "      <th>63</th>\n",
              "      <td>63</td>\n",
              "      <td>LOX3</td>\n",
              "      <td>-3.106910</td>\n",
              "      <td>-1.796660</td>\n",
              "      <td>1.304060</td>\n",
              "      <td>0.000000</td>\n",
              "      <td>4.153708</td>\n",
              "      <td>4.242976</td>\n",
              "    </tr>\n",
              "  </tbody>\n",
              "</table>\n",
              "<p>64 rows × 8 columns</p>\n",
              "</div>\n",
              "    <div class=\"colab-df-buttons\">\n",
              "\n",
              "  <div class=\"colab-df-container\">\n",
              "    <button class=\"colab-df-convert\" onclick=\"convertToInteractive('df-ae06a9aa-fa30-43a2-82fe-2b9e04c05f9d')\"\n",
              "            title=\"Convert this dataframe to an interactive table.\"\n",
              "            style=\"display:none;\">\n",
              "\n",
              "  <svg xmlns=\"http://www.w3.org/2000/svg\" height=\"24px\" viewBox=\"0 -960 960 960\">\n",
              "    <path d=\"M120-120v-720h720v720H120Zm60-500h600v-160H180v160Zm220 220h160v-160H400v160Zm0 220h160v-160H400v160ZM180-400h160v-160H180v160Zm440 0h160v-160H620v160ZM180-180h160v-160H180v160Zm440 0h160v-160H620v160Z\"/>\n",
              "  </svg>\n",
              "    </button>\n",
              "\n",
              "  <style>\n",
              "    .colab-df-container {\n",
              "      display:flex;\n",
              "      gap: 12px;\n",
              "    }\n",
              "\n",
              "    .colab-df-convert {\n",
              "      background-color: #E8F0FE;\n",
              "      border: none;\n",
              "      border-radius: 50%;\n",
              "      cursor: pointer;\n",
              "      display: none;\n",
              "      fill: #1967D2;\n",
              "      height: 32px;\n",
              "      padding: 0 0 0 0;\n",
              "      width: 32px;\n",
              "    }\n",
              "\n",
              "    .colab-df-convert:hover {\n",
              "      background-color: #E2EBFA;\n",
              "      box-shadow: 0px 1px 2px rgba(60, 64, 67, 0.3), 0px 1px 3px 1px rgba(60, 64, 67, 0.15);\n",
              "      fill: #174EA6;\n",
              "    }\n",
              "\n",
              "    .colab-df-buttons div {\n",
              "      margin-bottom: 4px;\n",
              "    }\n",
              "\n",
              "    [theme=dark] .colab-df-convert {\n",
              "      background-color: #3B4455;\n",
              "      fill: #D2E3FC;\n",
              "    }\n",
              "\n",
              "    [theme=dark] .colab-df-convert:hover {\n",
              "      background-color: #434B5C;\n",
              "      box-shadow: 0px 1px 3px 1px rgba(0, 0, 0, 0.15);\n",
              "      filter: drop-shadow(0px 1px 2px rgba(0, 0, 0, 0.3));\n",
              "      fill: #FFFFFF;\n",
              "    }\n",
              "  </style>\n",
              "\n",
              "    <script>\n",
              "      const buttonEl =\n",
              "        document.querySelector('#df-ae06a9aa-fa30-43a2-82fe-2b9e04c05f9d button.colab-df-convert');\n",
              "      buttonEl.style.display =\n",
              "        google.colab.kernel.accessAllowed ? 'block' : 'none';\n",
              "\n",
              "      async function convertToInteractive(key) {\n",
              "        const element = document.querySelector('#df-ae06a9aa-fa30-43a2-82fe-2b9e04c05f9d');\n",
              "        const dataTable =\n",
              "          await google.colab.kernel.invokeFunction('convertToInteractive',\n",
              "                                                    [key], {});\n",
              "        if (!dataTable) return;\n",
              "\n",
              "        const docLinkHtml = 'Like what you see? Visit the ' +\n",
              "          '<a target=\"_blank\" href=https://colab.research.google.com/notebooks/data_table.ipynb>data table notebook</a>'\n",
              "          + ' to learn more about interactive tables.';\n",
              "        element.innerHTML = '';\n",
              "        dataTable['output_type'] = 'display_data';\n",
              "        await google.colab.output.renderOutput(dataTable, element);\n",
              "        const docLink = document.createElement('div');\n",
              "        docLink.innerHTML = docLinkHtml;\n",
              "        element.appendChild(docLink);\n",
              "      }\n",
              "    </script>\n",
              "  </div>\n",
              "\n",
              "\n",
              "<div id=\"df-d70e9a04-562e-475f-a9b9-ad8dfb83f057\">\n",
              "  <button class=\"colab-df-quickchart\" onclick=\"quickchart('df-d70e9a04-562e-475f-a9b9-ad8dfb83f057')\"\n",
              "            title=\"Suggest charts\"\n",
              "            style=\"display:none;\">\n",
              "\n",
              "<svg xmlns=\"http://www.w3.org/2000/svg\" height=\"24px\"viewBox=\"0 0 24 24\"\n",
              "     width=\"24px\">\n",
              "    <g>\n",
              "        <path d=\"M19 3H5c-1.1 0-2 .9-2 2v14c0 1.1.9 2 2 2h14c1.1 0 2-.9 2-2V5c0-1.1-.9-2-2-2zM9 17H7v-7h2v7zm4 0h-2V7h2v10zm4 0h-2v-4h2v4z\"/>\n",
              "    </g>\n",
              "</svg>\n",
              "  </button>\n",
              "\n",
              "<style>\n",
              "  .colab-df-quickchart {\n",
              "      --bg-color: #E8F0FE;\n",
              "      --fill-color: #1967D2;\n",
              "      --hover-bg-color: #E2EBFA;\n",
              "      --hover-fill-color: #174EA6;\n",
              "      --disabled-fill-color: #AAA;\n",
              "      --disabled-bg-color: #DDD;\n",
              "  }\n",
              "\n",
              "  [theme=dark] .colab-df-quickchart {\n",
              "      --bg-color: #3B4455;\n",
              "      --fill-color: #D2E3FC;\n",
              "      --hover-bg-color: #434B5C;\n",
              "      --hover-fill-color: #FFFFFF;\n",
              "      --disabled-bg-color: #3B4455;\n",
              "      --disabled-fill-color: #666;\n",
              "  }\n",
              "\n",
              "  .colab-df-quickchart {\n",
              "    background-color: var(--bg-color);\n",
              "    border: none;\n",
              "    border-radius: 50%;\n",
              "    cursor: pointer;\n",
              "    display: none;\n",
              "    fill: var(--fill-color);\n",
              "    height: 32px;\n",
              "    padding: 0;\n",
              "    width: 32px;\n",
              "  }\n",
              "\n",
              "  .colab-df-quickchart:hover {\n",
              "    background-color: var(--hover-bg-color);\n",
              "    box-shadow: 0 1px 2px rgba(60, 64, 67, 0.3), 0 1px 3px 1px rgba(60, 64, 67, 0.15);\n",
              "    fill: var(--button-hover-fill-color);\n",
              "  }\n",
              "\n",
              "  .colab-df-quickchart-complete:disabled,\n",
              "  .colab-df-quickchart-complete:disabled:hover {\n",
              "    background-color: var(--disabled-bg-color);\n",
              "    fill: var(--disabled-fill-color);\n",
              "    box-shadow: none;\n",
              "  }\n",
              "\n",
              "  .colab-df-spinner {\n",
              "    border: 2px solid var(--fill-color);\n",
              "    border-color: transparent;\n",
              "    border-bottom-color: var(--fill-color);\n",
              "    animation:\n",
              "      spin 1s steps(1) infinite;\n",
              "  }\n",
              "\n",
              "  @keyframes spin {\n",
              "    0% {\n",
              "      border-color: transparent;\n",
              "      border-bottom-color: var(--fill-color);\n",
              "      border-left-color: var(--fill-color);\n",
              "    }\n",
              "    20% {\n",
              "      border-color: transparent;\n",
              "      border-left-color: var(--fill-color);\n",
              "      border-top-color: var(--fill-color);\n",
              "    }\n",
              "    30% {\n",
              "      border-color: transparent;\n",
              "      border-left-color: var(--fill-color);\n",
              "      border-top-color: var(--fill-color);\n",
              "      border-right-color: var(--fill-color);\n",
              "    }\n",
              "    40% {\n",
              "      border-color: transparent;\n",
              "      border-right-color: var(--fill-color);\n",
              "      border-top-color: var(--fill-color);\n",
              "    }\n",
              "    60% {\n",
              "      border-color: transparent;\n",
              "      border-right-color: var(--fill-color);\n",
              "    }\n",
              "    80% {\n",
              "      border-color: transparent;\n",
              "      border-right-color: var(--fill-color);\n",
              "      border-bottom-color: var(--fill-color);\n",
              "    }\n",
              "    90% {\n",
              "      border-color: transparent;\n",
              "      border-bottom-color: var(--fill-color);\n",
              "    }\n",
              "  }\n",
              "</style>\n",
              "\n",
              "  <script>\n",
              "    async function quickchart(key) {\n",
              "      const quickchartButtonEl =\n",
              "        document.querySelector('#' + key + ' button');\n",
              "      quickchartButtonEl.disabled = true;  // To prevent multiple clicks.\n",
              "      quickchartButtonEl.classList.add('colab-df-spinner');\n",
              "      try {\n",
              "        const charts = await google.colab.kernel.invokeFunction(\n",
              "            'suggestCharts', [key], {});\n",
              "      } catch (error) {\n",
              "        console.error('Error during call to suggestCharts:', error);\n",
              "      }\n",
              "      quickchartButtonEl.classList.remove('colab-df-spinner');\n",
              "      quickchartButtonEl.classList.add('colab-df-quickchart-complete');\n",
              "    }\n",
              "    (() => {\n",
              "      let quickchartButtonEl =\n",
              "        document.querySelector('#df-d70e9a04-562e-475f-a9b9-ad8dfb83f057 button');\n",
              "      quickchartButtonEl.style.display =\n",
              "        google.colab.kernel.accessAllowed ? 'block' : 'none';\n",
              "    })();\n",
              "  </script>\n",
              "</div>\n",
              "\n",
              "  <div id=\"id_68073b9e-8b9c-4b62-b9c5-f2e7ec5e4eb5\">\n",
              "    <style>\n",
              "      .colab-df-generate {\n",
              "        background-color: #E8F0FE;\n",
              "        border: none;\n",
              "        border-radius: 50%;\n",
              "        cursor: pointer;\n",
              "        display: none;\n",
              "        fill: #1967D2;\n",
              "        height: 32px;\n",
              "        padding: 0 0 0 0;\n",
              "        width: 32px;\n",
              "      }\n",
              "\n",
              "      .colab-df-generate:hover {\n",
              "        background-color: #E2EBFA;\n",
              "        box-shadow: 0px 1px 2px rgba(60, 64, 67, 0.3), 0px 1px 3px 1px rgba(60, 64, 67, 0.15);\n",
              "        fill: #174EA6;\n",
              "      }\n",
              "\n",
              "      [theme=dark] .colab-df-generate {\n",
              "        background-color: #3B4455;\n",
              "        fill: #D2E3FC;\n",
              "      }\n",
              "\n",
              "      [theme=dark] .colab-df-generate:hover {\n",
              "        background-color: #434B5C;\n",
              "        box-shadow: 0px 1px 3px 1px rgba(0, 0, 0, 0.15);\n",
              "        filter: drop-shadow(0px 1px 2px rgba(0, 0, 0, 0.3));\n",
              "        fill: #FFFFFF;\n",
              "      }\n",
              "    </style>\n",
              "    <button class=\"colab-df-generate\" onclick=\"generateWithVariable('df')\"\n",
              "            title=\"Generate code using this dataframe.\"\n",
              "            style=\"display:none;\">\n",
              "\n",
              "  <svg xmlns=\"http://www.w3.org/2000/svg\" height=\"24px\"viewBox=\"0 0 24 24\"\n",
              "       width=\"24px\">\n",
              "    <path d=\"M7,19H8.4L18.45,9,17,7.55,7,17.6ZM5,21V16.75L18.45,3.32a2,2,0,0,1,2.83,0l1.4,1.43a1.91,1.91,0,0,1,.58,1.4,1.91,1.91,0,0,1-.58,1.4L9.25,21ZM18.45,9,17,7.55Zm-12,3A5.31,5.31,0,0,0,4.9,8.1,5.31,5.31,0,0,0,1,6.5,5.31,5.31,0,0,0,4.9,4.9,5.31,5.31,0,0,0,6.5,1,5.31,5.31,0,0,0,8.1,4.9,5.31,5.31,0,0,0,12,6.5,5.46,5.46,0,0,0,6.5,12Z\"/>\n",
              "  </svg>\n",
              "    </button>\n",
              "    <script>\n",
              "      (() => {\n",
              "      const buttonEl =\n",
              "        document.querySelector('#id_68073b9e-8b9c-4b62-b9c5-f2e7ec5e4eb5 button.colab-df-generate');\n",
              "      buttonEl.style.display =\n",
              "        google.colab.kernel.accessAllowed ? 'block' : 'none';\n",
              "\n",
              "      buttonEl.onclick = () => {\n",
              "        google.colab.notebook.generateWithVariable('df');\n",
              "      }\n",
              "      })();\n",
              "    </script>\n",
              "  </div>\n",
              "\n",
              "    </div>\n",
              "  </div>\n"
            ],
            "application/vnd.google.colaboratory.intrinsic+json": {
              "type": "dataframe",
              "variable_name": "df",
              "summary": "{\n  \"name\": \"df\",\n  \"rows\": 64,\n  \"fields\": [\n    {\n      \"column\": \"Unnamed: 0\",\n      \"properties\": {\n        \"dtype\": \"number\",\n        \"std\": 18,\n        \"min\": 0,\n        \"max\": 63,\n        \"num_unique_values\": 64,\n        \"samples\": [\n          52,\n          58,\n          0\n        ],\n        \"semantic_type\": \"\",\n        \"description\": \"\"\n      }\n    },\n    {\n      \"column\": \"Gene\",\n      \"properties\": {\n        \"dtype\": \"string\",\n        \"num_unique_values\": 39,\n        \"samples\": [\n          \"GT72B1\",\n          \"LOX1\",\n          \"BG3\"\n        ],\n        \"semantic_type\": \"\",\n        \"description\": \"\"\n      }\n    },\n    {\n      \"column\": \"A\",\n      \"properties\": {\n        \"dtype\": \"number\",\n        \"std\": 4.159331706636723,\n        \"min\": -6.828695043,\n        \"max\": 12.23601419,\n        \"num_unique_values\": 64,\n        \"samples\": [\n          -2.43184,\n          8.754292936,\n          4.5057\n        ],\n        \"semantic_type\": \"\",\n        \"description\": \"\"\n      }\n    },\n    {\n      \"column\": \"B\",\n      \"properties\": {\n        \"dtype\": \"number\",\n        \"std\": 3.0702426662823483,\n        \"min\": -1.79666,\n        \"max\": 11.57210332,\n        \"num_unique_values\": 63,\n        \"samples\": [\n          3.1126,\n          7.509038626,\n          3.26036\n        ],\n        \"semantic_type\": \"\",\n        \"description\": \"\"\n      }\n    },\n    {\n      \"column\": \"C\",\n      \"properties\": {\n        \"dtype\": \"number\",\n        \"std\": 3.7698861762816245,\n        \"min\": -8.741659108,\n        \"max\": 12.72465453,\n        \"num_unique_values\": 64,\n        \"samples\": [\n          2.27991,\n          -1.3259,\n          -1.2494\n        ],\n        \"semantic_type\": \"\",\n        \"description\": \"\"\n      }\n    },\n    {\n      \"column\": \"D\",\n      \"properties\": {\n        \"dtype\": \"number\",\n        \"std\": 3.0870926866129813,\n        \"min\": -4.46464,\n        \"max\": 9.0243,\n        \"num_unique_values\": 61,\n        \"samples\": [\n          8.89807,\n          3.72963,\n          1.2096\n        ],\n        \"semantic_type\": \"\",\n        \"description\": \"\"\n      }\n    },\n    {\n      \"column\": \"E\",\n      \"properties\": {\n        \"dtype\": \"number\",\n        \"std\": 3.2185526661539337,\n        \"min\": -5.263500201,\n        \"max\": 12.18242539,\n        \"num_unique_values\": 64,\n        \"samples\": [\n          -1.53959,\n          6.87832,\n          8.05955\n        ],\n        \"semantic_type\": \"\",\n        \"description\": \"\"\n      }\n    },\n    {\n      \"column\": \"F\",\n      \"properties\": {\n        \"dtype\": \"number\",\n        \"std\": 2.233755933692811,\n        \"min\": -6.29946,\n        \"max\": 4.59208,\n        \"num_unique_values\": 62,\n        \"samples\": [\n          -1.33858,\n          -0.77955,\n          -0.842803\n        ],\n        \"semantic_type\": \"\",\n        \"description\": \"\"\n      }\n    }\n  ]\n}"
            }
          },
          "metadata": {},
          "execution_count": 50
        }
      ]
    },
    {
      "cell_type": "code",
      "source": [
        "df = df.iloc[:,1:]\n",
        "df"
      ],
      "metadata": {
        "colab": {
          "base_uri": "https://localhost:8080/",
          "height": 423
        },
        "id": "gkm9Wf3nHL_M",
        "outputId": "b3de5294-bac2-4139-8067-dc9eb2e36a74"
      },
      "execution_count": null,
      "outputs": [
        {
          "output_type": "execute_result",
          "data": {
            "text/plain": [
              "     Gene         A         B         C         D         E         F\n",
              "0   B-CHI  4.505700  3.260360 -1.249400  8.898070  8.059550 -0.842803\n",
              "1    CTL2  3.508560  1.660790 -1.856680 -2.573360 -1.373700  1.196000\n",
              "2   B-CHI  2.160030  3.146520  0.982809  9.024300  6.058320 -2.967420\n",
              "3    CTL2  1.884750  2.295690  0.408891 -3.914040 -2.280490  1.628820\n",
              "4    CHIV  0.255193 -0.761204 -1.022350  3.650590  2.465250 -1.188140\n",
              "..    ...       ...       ...       ...       ...       ...       ...\n",
              "59     GT  2.494520 -1.424300 -3.922860  5.058650  3.221320 -1.843140\n",
              "60   GT18  0.246712  0.633894  0.379892  3.528580  3.323050 -0.204698\n",
              "61   LOX1  2.653190  0.542016 -2.114000 -1.008330 -0.556431  0.008976\n",
              "62   LOX2  2.364060  3.112600  0.743919  0.704424  0.196137 -0.513449\n",
              "63   LOX3 -3.106910 -1.796660  1.304060  0.000000  4.153708  4.242976\n",
              "\n",
              "[64 rows x 7 columns]"
            ],
            "text/html": [
              "\n",
              "  <div id=\"df-cfe8c7f5-efee-4905-abe5-9990d6e888f3\" class=\"colab-df-container\">\n",
              "    <div>\n",
              "<style scoped>\n",
              "    .dataframe tbody tr th:only-of-type {\n",
              "        vertical-align: middle;\n",
              "    }\n",
              "\n",
              "    .dataframe tbody tr th {\n",
              "        vertical-align: top;\n",
              "    }\n",
              "\n",
              "    .dataframe thead th {\n",
              "        text-align: right;\n",
              "    }\n",
              "</style>\n",
              "<table border=\"1\" class=\"dataframe\">\n",
              "  <thead>\n",
              "    <tr style=\"text-align: right;\">\n",
              "      <th></th>\n",
              "      <th>Gene</th>\n",
              "      <th>A</th>\n",
              "      <th>B</th>\n",
              "      <th>C</th>\n",
              "      <th>D</th>\n",
              "      <th>E</th>\n",
              "      <th>F</th>\n",
              "    </tr>\n",
              "  </thead>\n",
              "  <tbody>\n",
              "    <tr>\n",
              "      <th>0</th>\n",
              "      <td>B-CHI</td>\n",
              "      <td>4.505700</td>\n",
              "      <td>3.260360</td>\n",
              "      <td>-1.249400</td>\n",
              "      <td>8.898070</td>\n",
              "      <td>8.059550</td>\n",
              "      <td>-0.842803</td>\n",
              "    </tr>\n",
              "    <tr>\n",
              "      <th>1</th>\n",
              "      <td>CTL2</td>\n",
              "      <td>3.508560</td>\n",
              "      <td>1.660790</td>\n",
              "      <td>-1.856680</td>\n",
              "      <td>-2.573360</td>\n",
              "      <td>-1.373700</td>\n",
              "      <td>1.196000</td>\n",
              "    </tr>\n",
              "    <tr>\n",
              "      <th>2</th>\n",
              "      <td>B-CHI</td>\n",
              "      <td>2.160030</td>\n",
              "      <td>3.146520</td>\n",
              "      <td>0.982809</td>\n",
              "      <td>9.024300</td>\n",
              "      <td>6.058320</td>\n",
              "      <td>-2.967420</td>\n",
              "    </tr>\n",
              "    <tr>\n",
              "      <th>3</th>\n",
              "      <td>CTL2</td>\n",
              "      <td>1.884750</td>\n",
              "      <td>2.295690</td>\n",
              "      <td>0.408891</td>\n",
              "      <td>-3.914040</td>\n",
              "      <td>-2.280490</td>\n",
              "      <td>1.628820</td>\n",
              "    </tr>\n",
              "    <tr>\n",
              "      <th>4</th>\n",
              "      <td>CHIV</td>\n",
              "      <td>0.255193</td>\n",
              "      <td>-0.761204</td>\n",
              "      <td>-1.022350</td>\n",
              "      <td>3.650590</td>\n",
              "      <td>2.465250</td>\n",
              "      <td>-1.188140</td>\n",
              "    </tr>\n",
              "    <tr>\n",
              "      <th>...</th>\n",
              "      <td>...</td>\n",
              "      <td>...</td>\n",
              "      <td>...</td>\n",
              "      <td>...</td>\n",
              "      <td>...</td>\n",
              "      <td>...</td>\n",
              "      <td>...</td>\n",
              "    </tr>\n",
              "    <tr>\n",
              "      <th>59</th>\n",
              "      <td>GT</td>\n",
              "      <td>2.494520</td>\n",
              "      <td>-1.424300</td>\n",
              "      <td>-3.922860</td>\n",
              "      <td>5.058650</td>\n",
              "      <td>3.221320</td>\n",
              "      <td>-1.843140</td>\n",
              "    </tr>\n",
              "    <tr>\n",
              "      <th>60</th>\n",
              "      <td>GT18</td>\n",
              "      <td>0.246712</td>\n",
              "      <td>0.633894</td>\n",
              "      <td>0.379892</td>\n",
              "      <td>3.528580</td>\n",
              "      <td>3.323050</td>\n",
              "      <td>-0.204698</td>\n",
              "    </tr>\n",
              "    <tr>\n",
              "      <th>61</th>\n",
              "      <td>LOX1</td>\n",
              "      <td>2.653190</td>\n",
              "      <td>0.542016</td>\n",
              "      <td>-2.114000</td>\n",
              "      <td>-1.008330</td>\n",
              "      <td>-0.556431</td>\n",
              "      <td>0.008976</td>\n",
              "    </tr>\n",
              "    <tr>\n",
              "      <th>62</th>\n",
              "      <td>LOX2</td>\n",
              "      <td>2.364060</td>\n",
              "      <td>3.112600</td>\n",
              "      <td>0.743919</td>\n",
              "      <td>0.704424</td>\n",
              "      <td>0.196137</td>\n",
              "      <td>-0.513449</td>\n",
              "    </tr>\n",
              "    <tr>\n",
              "      <th>63</th>\n",
              "      <td>LOX3</td>\n",
              "      <td>-3.106910</td>\n",
              "      <td>-1.796660</td>\n",
              "      <td>1.304060</td>\n",
              "      <td>0.000000</td>\n",
              "      <td>4.153708</td>\n",
              "      <td>4.242976</td>\n",
              "    </tr>\n",
              "  </tbody>\n",
              "</table>\n",
              "<p>64 rows × 7 columns</p>\n",
              "</div>\n",
              "    <div class=\"colab-df-buttons\">\n",
              "\n",
              "  <div class=\"colab-df-container\">\n",
              "    <button class=\"colab-df-convert\" onclick=\"convertToInteractive('df-cfe8c7f5-efee-4905-abe5-9990d6e888f3')\"\n",
              "            title=\"Convert this dataframe to an interactive table.\"\n",
              "            style=\"display:none;\">\n",
              "\n",
              "  <svg xmlns=\"http://www.w3.org/2000/svg\" height=\"24px\" viewBox=\"0 -960 960 960\">\n",
              "    <path d=\"M120-120v-720h720v720H120Zm60-500h600v-160H180v160Zm220 220h160v-160H400v160Zm0 220h160v-160H400v160ZM180-400h160v-160H180v160Zm440 0h160v-160H620v160ZM180-180h160v-160H180v160Zm440 0h160v-160H620v160Z\"/>\n",
              "  </svg>\n",
              "    </button>\n",
              "\n",
              "  <style>\n",
              "    .colab-df-container {\n",
              "      display:flex;\n",
              "      gap: 12px;\n",
              "    }\n",
              "\n",
              "    .colab-df-convert {\n",
              "      background-color: #E8F0FE;\n",
              "      border: none;\n",
              "      border-radius: 50%;\n",
              "      cursor: pointer;\n",
              "      display: none;\n",
              "      fill: #1967D2;\n",
              "      height: 32px;\n",
              "      padding: 0 0 0 0;\n",
              "      width: 32px;\n",
              "    }\n",
              "\n",
              "    .colab-df-convert:hover {\n",
              "      background-color: #E2EBFA;\n",
              "      box-shadow: 0px 1px 2px rgba(60, 64, 67, 0.3), 0px 1px 3px 1px rgba(60, 64, 67, 0.15);\n",
              "      fill: #174EA6;\n",
              "    }\n",
              "\n",
              "    .colab-df-buttons div {\n",
              "      margin-bottom: 4px;\n",
              "    }\n",
              "\n",
              "    [theme=dark] .colab-df-convert {\n",
              "      background-color: #3B4455;\n",
              "      fill: #D2E3FC;\n",
              "    }\n",
              "\n",
              "    [theme=dark] .colab-df-convert:hover {\n",
              "      background-color: #434B5C;\n",
              "      box-shadow: 0px 1px 3px 1px rgba(0, 0, 0, 0.15);\n",
              "      filter: drop-shadow(0px 1px 2px rgba(0, 0, 0, 0.3));\n",
              "      fill: #FFFFFF;\n",
              "    }\n",
              "  </style>\n",
              "\n",
              "    <script>\n",
              "      const buttonEl =\n",
              "        document.querySelector('#df-cfe8c7f5-efee-4905-abe5-9990d6e888f3 button.colab-df-convert');\n",
              "      buttonEl.style.display =\n",
              "        google.colab.kernel.accessAllowed ? 'block' : 'none';\n",
              "\n",
              "      async function convertToInteractive(key) {\n",
              "        const element = document.querySelector('#df-cfe8c7f5-efee-4905-abe5-9990d6e888f3');\n",
              "        const dataTable =\n",
              "          await google.colab.kernel.invokeFunction('convertToInteractive',\n",
              "                                                    [key], {});\n",
              "        if (!dataTable) return;\n",
              "\n",
              "        const docLinkHtml = 'Like what you see? Visit the ' +\n",
              "          '<a target=\"_blank\" href=https://colab.research.google.com/notebooks/data_table.ipynb>data table notebook</a>'\n",
              "          + ' to learn more about interactive tables.';\n",
              "        element.innerHTML = '';\n",
              "        dataTable['output_type'] = 'display_data';\n",
              "        await google.colab.output.renderOutput(dataTable, element);\n",
              "        const docLink = document.createElement('div');\n",
              "        docLink.innerHTML = docLinkHtml;\n",
              "        element.appendChild(docLink);\n",
              "      }\n",
              "    </script>\n",
              "  </div>\n",
              "\n",
              "\n",
              "<div id=\"df-06493295-eebb-4803-95be-35f53572b4a5\">\n",
              "  <button class=\"colab-df-quickchart\" onclick=\"quickchart('df-06493295-eebb-4803-95be-35f53572b4a5')\"\n",
              "            title=\"Suggest charts\"\n",
              "            style=\"display:none;\">\n",
              "\n",
              "<svg xmlns=\"http://www.w3.org/2000/svg\" height=\"24px\"viewBox=\"0 0 24 24\"\n",
              "     width=\"24px\">\n",
              "    <g>\n",
              "        <path d=\"M19 3H5c-1.1 0-2 .9-2 2v14c0 1.1.9 2 2 2h14c1.1 0 2-.9 2-2V5c0-1.1-.9-2-2-2zM9 17H7v-7h2v7zm4 0h-2V7h2v10zm4 0h-2v-4h2v4z\"/>\n",
              "    </g>\n",
              "</svg>\n",
              "  </button>\n",
              "\n",
              "<style>\n",
              "  .colab-df-quickchart {\n",
              "      --bg-color: #E8F0FE;\n",
              "      --fill-color: #1967D2;\n",
              "      --hover-bg-color: #E2EBFA;\n",
              "      --hover-fill-color: #174EA6;\n",
              "      --disabled-fill-color: #AAA;\n",
              "      --disabled-bg-color: #DDD;\n",
              "  }\n",
              "\n",
              "  [theme=dark] .colab-df-quickchart {\n",
              "      --bg-color: #3B4455;\n",
              "      --fill-color: #D2E3FC;\n",
              "      --hover-bg-color: #434B5C;\n",
              "      --hover-fill-color: #FFFFFF;\n",
              "      --disabled-bg-color: #3B4455;\n",
              "      --disabled-fill-color: #666;\n",
              "  }\n",
              "\n",
              "  .colab-df-quickchart {\n",
              "    background-color: var(--bg-color);\n",
              "    border: none;\n",
              "    border-radius: 50%;\n",
              "    cursor: pointer;\n",
              "    display: none;\n",
              "    fill: var(--fill-color);\n",
              "    height: 32px;\n",
              "    padding: 0;\n",
              "    width: 32px;\n",
              "  }\n",
              "\n",
              "  .colab-df-quickchart:hover {\n",
              "    background-color: var(--hover-bg-color);\n",
              "    box-shadow: 0 1px 2px rgba(60, 64, 67, 0.3), 0 1px 3px 1px rgba(60, 64, 67, 0.15);\n",
              "    fill: var(--button-hover-fill-color);\n",
              "  }\n",
              "\n",
              "  .colab-df-quickchart-complete:disabled,\n",
              "  .colab-df-quickchart-complete:disabled:hover {\n",
              "    background-color: var(--disabled-bg-color);\n",
              "    fill: var(--disabled-fill-color);\n",
              "    box-shadow: none;\n",
              "  }\n",
              "\n",
              "  .colab-df-spinner {\n",
              "    border: 2px solid var(--fill-color);\n",
              "    border-color: transparent;\n",
              "    border-bottom-color: var(--fill-color);\n",
              "    animation:\n",
              "      spin 1s steps(1) infinite;\n",
              "  }\n",
              "\n",
              "  @keyframes spin {\n",
              "    0% {\n",
              "      border-color: transparent;\n",
              "      border-bottom-color: var(--fill-color);\n",
              "      border-left-color: var(--fill-color);\n",
              "    }\n",
              "    20% {\n",
              "      border-color: transparent;\n",
              "      border-left-color: var(--fill-color);\n",
              "      border-top-color: var(--fill-color);\n",
              "    }\n",
              "    30% {\n",
              "      border-color: transparent;\n",
              "      border-left-color: var(--fill-color);\n",
              "      border-top-color: var(--fill-color);\n",
              "      border-right-color: var(--fill-color);\n",
              "    }\n",
              "    40% {\n",
              "      border-color: transparent;\n",
              "      border-right-color: var(--fill-color);\n",
              "      border-top-color: var(--fill-color);\n",
              "    }\n",
              "    60% {\n",
              "      border-color: transparent;\n",
              "      border-right-color: var(--fill-color);\n",
              "    }\n",
              "    80% {\n",
              "      border-color: transparent;\n",
              "      border-right-color: var(--fill-color);\n",
              "      border-bottom-color: var(--fill-color);\n",
              "    }\n",
              "    90% {\n",
              "      border-color: transparent;\n",
              "      border-bottom-color: var(--fill-color);\n",
              "    }\n",
              "  }\n",
              "</style>\n",
              "\n",
              "  <script>\n",
              "    async function quickchart(key) {\n",
              "      const quickchartButtonEl =\n",
              "        document.querySelector('#' + key + ' button');\n",
              "      quickchartButtonEl.disabled = true;  // To prevent multiple clicks.\n",
              "      quickchartButtonEl.classList.add('colab-df-spinner');\n",
              "      try {\n",
              "        const charts = await google.colab.kernel.invokeFunction(\n",
              "            'suggestCharts', [key], {});\n",
              "      } catch (error) {\n",
              "        console.error('Error during call to suggestCharts:', error);\n",
              "      }\n",
              "      quickchartButtonEl.classList.remove('colab-df-spinner');\n",
              "      quickchartButtonEl.classList.add('colab-df-quickchart-complete');\n",
              "    }\n",
              "    (() => {\n",
              "      let quickchartButtonEl =\n",
              "        document.querySelector('#df-06493295-eebb-4803-95be-35f53572b4a5 button');\n",
              "      quickchartButtonEl.style.display =\n",
              "        google.colab.kernel.accessAllowed ? 'block' : 'none';\n",
              "    })();\n",
              "  </script>\n",
              "</div>\n",
              "\n",
              "  <div id=\"id_0cc64a7b-7c6e-438e-aefa-94f93ccd3e9d\">\n",
              "    <style>\n",
              "      .colab-df-generate {\n",
              "        background-color: #E8F0FE;\n",
              "        border: none;\n",
              "        border-radius: 50%;\n",
              "        cursor: pointer;\n",
              "        display: none;\n",
              "        fill: #1967D2;\n",
              "        height: 32px;\n",
              "        padding: 0 0 0 0;\n",
              "        width: 32px;\n",
              "      }\n",
              "\n",
              "      .colab-df-generate:hover {\n",
              "        background-color: #E2EBFA;\n",
              "        box-shadow: 0px 1px 2px rgba(60, 64, 67, 0.3), 0px 1px 3px 1px rgba(60, 64, 67, 0.15);\n",
              "        fill: #174EA6;\n",
              "      }\n",
              "\n",
              "      [theme=dark] .colab-df-generate {\n",
              "        background-color: #3B4455;\n",
              "        fill: #D2E3FC;\n",
              "      }\n",
              "\n",
              "      [theme=dark] .colab-df-generate:hover {\n",
              "        background-color: #434B5C;\n",
              "        box-shadow: 0px 1px 3px 1px rgba(0, 0, 0, 0.15);\n",
              "        filter: drop-shadow(0px 1px 2px rgba(0, 0, 0, 0.3));\n",
              "        fill: #FFFFFF;\n",
              "      }\n",
              "    </style>\n",
              "    <button class=\"colab-df-generate\" onclick=\"generateWithVariable('df')\"\n",
              "            title=\"Generate code using this dataframe.\"\n",
              "            style=\"display:none;\">\n",
              "\n",
              "  <svg xmlns=\"http://www.w3.org/2000/svg\" height=\"24px\"viewBox=\"0 0 24 24\"\n",
              "       width=\"24px\">\n",
              "    <path d=\"M7,19H8.4L18.45,9,17,7.55,7,17.6ZM5,21V16.75L18.45,3.32a2,2,0,0,1,2.83,0l1.4,1.43a1.91,1.91,0,0,1,.58,1.4,1.91,1.91,0,0,1-.58,1.4L9.25,21ZM18.45,9,17,7.55Zm-12,3A5.31,5.31,0,0,0,4.9,8.1,5.31,5.31,0,0,0,1,6.5,5.31,5.31,0,0,0,4.9,4.9,5.31,5.31,0,0,0,6.5,1,5.31,5.31,0,0,0,8.1,4.9,5.31,5.31,0,0,0,12,6.5,5.46,5.46,0,0,0,6.5,12Z\"/>\n",
              "  </svg>\n",
              "    </button>\n",
              "    <script>\n",
              "      (() => {\n",
              "      const buttonEl =\n",
              "        document.querySelector('#id_0cc64a7b-7c6e-438e-aefa-94f93ccd3e9d button.colab-df-generate');\n",
              "      buttonEl.style.display =\n",
              "        google.colab.kernel.accessAllowed ? 'block' : 'none';\n",
              "\n",
              "      buttonEl.onclick = () => {\n",
              "        google.colab.notebook.generateWithVariable('df');\n",
              "      }\n",
              "      })();\n",
              "    </script>\n",
              "  </div>\n",
              "\n",
              "    </div>\n",
              "  </div>\n"
            ],
            "application/vnd.google.colaboratory.intrinsic+json": {
              "type": "dataframe",
              "variable_name": "df",
              "summary": "{\n  \"name\": \"df\",\n  \"rows\": 64,\n  \"fields\": [\n    {\n      \"column\": \"Gene\",\n      \"properties\": {\n        \"dtype\": \"string\",\n        \"num_unique_values\": 39,\n        \"samples\": [\n          \"GT72B1\",\n          \"LOX1\",\n          \"BG3\"\n        ],\n        \"semantic_type\": \"\",\n        \"description\": \"\"\n      }\n    },\n    {\n      \"column\": \"A\",\n      \"properties\": {\n        \"dtype\": \"number\",\n        \"std\": 4.159331706636723,\n        \"min\": -6.828695043,\n        \"max\": 12.23601419,\n        \"num_unique_values\": 64,\n        \"samples\": [\n          -2.43184,\n          8.754292936,\n          4.5057\n        ],\n        \"semantic_type\": \"\",\n        \"description\": \"\"\n      }\n    },\n    {\n      \"column\": \"B\",\n      \"properties\": {\n        \"dtype\": \"number\",\n        \"std\": 3.0702426662823483,\n        \"min\": -1.79666,\n        \"max\": 11.57210332,\n        \"num_unique_values\": 63,\n        \"samples\": [\n          3.1126,\n          7.509038626,\n          3.26036\n        ],\n        \"semantic_type\": \"\",\n        \"description\": \"\"\n      }\n    },\n    {\n      \"column\": \"C\",\n      \"properties\": {\n        \"dtype\": \"number\",\n        \"std\": 3.7698861762816245,\n        \"min\": -8.741659108,\n        \"max\": 12.72465453,\n        \"num_unique_values\": 64,\n        \"samples\": [\n          2.27991,\n          -1.3259,\n          -1.2494\n        ],\n        \"semantic_type\": \"\",\n        \"description\": \"\"\n      }\n    },\n    {\n      \"column\": \"D\",\n      \"properties\": {\n        \"dtype\": \"number\",\n        \"std\": 3.0870926866129813,\n        \"min\": -4.46464,\n        \"max\": 9.0243,\n        \"num_unique_values\": 61,\n        \"samples\": [\n          8.89807,\n          3.72963,\n          1.2096\n        ],\n        \"semantic_type\": \"\",\n        \"description\": \"\"\n      }\n    },\n    {\n      \"column\": \"E\",\n      \"properties\": {\n        \"dtype\": \"number\",\n        \"std\": 3.2185526661539337,\n        \"min\": -5.263500201,\n        \"max\": 12.18242539,\n        \"num_unique_values\": 64,\n        \"samples\": [\n          -1.53959,\n          6.87832,\n          8.05955\n        ],\n        \"semantic_type\": \"\",\n        \"description\": \"\"\n      }\n    },\n    {\n      \"column\": \"F\",\n      \"properties\": {\n        \"dtype\": \"number\",\n        \"std\": 2.233755933692811,\n        \"min\": -6.29946,\n        \"max\": 4.59208,\n        \"num_unique_values\": 62,\n        \"samples\": [\n          -1.33858,\n          -0.77955,\n          -0.842803\n        ],\n        \"semantic_type\": \"\",\n        \"description\": \"\"\n      }\n    }\n  ]\n}"
            }
          },
          "metadata": {},
          "execution_count": 52
        }
      ]
    },
    {
      "cell_type": "code",
      "source": [
        "df = df.set_index([\"Gene\"])\n",
        "df"
      ],
      "metadata": {
        "colab": {
          "base_uri": "https://localhost:8080/",
          "height": 455
        },
        "id": "UBc7bPdOHL9G",
        "outputId": "6f20eb1e-ac02-4970-c68b-f383a2226e31"
      },
      "execution_count": null,
      "outputs": [
        {
          "output_type": "execute_result",
          "data": {
            "text/plain": [
              "              A         B         C         D         E         F\n",
              "Gene                                                             \n",
              "B-CHI  4.505700  3.260360 -1.249400  8.898070  8.059550 -0.842803\n",
              "CTL2   3.508560  1.660790 -1.856680 -2.573360 -1.373700  1.196000\n",
              "B-CHI  2.160030  3.146520  0.982809  9.024300  6.058320 -2.967420\n",
              "CTL2   1.884750  2.295690  0.408891 -3.914040 -2.280490  1.628820\n",
              "CHIV   0.255193 -0.761204 -1.022350  3.650590  2.465250 -1.188140\n",
              "...         ...       ...       ...       ...       ...       ...\n",
              "GT     2.494520 -1.424300 -3.922860  5.058650  3.221320 -1.843140\n",
              "GT18   0.246712  0.633894  0.379892  3.528580  3.323050 -0.204698\n",
              "LOX1   2.653190  0.542016 -2.114000 -1.008330 -0.556431  0.008976\n",
              "LOX2   2.364060  3.112600  0.743919  0.704424  0.196137 -0.513449\n",
              "LOX3  -3.106910 -1.796660  1.304060  0.000000  4.153708  4.242976\n",
              "\n",
              "[64 rows x 6 columns]"
            ],
            "text/html": [
              "\n",
              "  <div id=\"df-1b36c6a4-e7d4-4010-89d5-020f6edb53ff\" class=\"colab-df-container\">\n",
              "    <div>\n",
              "<style scoped>\n",
              "    .dataframe tbody tr th:only-of-type {\n",
              "        vertical-align: middle;\n",
              "    }\n",
              "\n",
              "    .dataframe tbody tr th {\n",
              "        vertical-align: top;\n",
              "    }\n",
              "\n",
              "    .dataframe thead th {\n",
              "        text-align: right;\n",
              "    }\n",
              "</style>\n",
              "<table border=\"1\" class=\"dataframe\">\n",
              "  <thead>\n",
              "    <tr style=\"text-align: right;\">\n",
              "      <th></th>\n",
              "      <th>A</th>\n",
              "      <th>B</th>\n",
              "      <th>C</th>\n",
              "      <th>D</th>\n",
              "      <th>E</th>\n",
              "      <th>F</th>\n",
              "    </tr>\n",
              "    <tr>\n",
              "      <th>Gene</th>\n",
              "      <th></th>\n",
              "      <th></th>\n",
              "      <th></th>\n",
              "      <th></th>\n",
              "      <th></th>\n",
              "      <th></th>\n",
              "    </tr>\n",
              "  </thead>\n",
              "  <tbody>\n",
              "    <tr>\n",
              "      <th>B-CHI</th>\n",
              "      <td>4.505700</td>\n",
              "      <td>3.260360</td>\n",
              "      <td>-1.249400</td>\n",
              "      <td>8.898070</td>\n",
              "      <td>8.059550</td>\n",
              "      <td>-0.842803</td>\n",
              "    </tr>\n",
              "    <tr>\n",
              "      <th>CTL2</th>\n",
              "      <td>3.508560</td>\n",
              "      <td>1.660790</td>\n",
              "      <td>-1.856680</td>\n",
              "      <td>-2.573360</td>\n",
              "      <td>-1.373700</td>\n",
              "      <td>1.196000</td>\n",
              "    </tr>\n",
              "    <tr>\n",
              "      <th>B-CHI</th>\n",
              "      <td>2.160030</td>\n",
              "      <td>3.146520</td>\n",
              "      <td>0.982809</td>\n",
              "      <td>9.024300</td>\n",
              "      <td>6.058320</td>\n",
              "      <td>-2.967420</td>\n",
              "    </tr>\n",
              "    <tr>\n",
              "      <th>CTL2</th>\n",
              "      <td>1.884750</td>\n",
              "      <td>2.295690</td>\n",
              "      <td>0.408891</td>\n",
              "      <td>-3.914040</td>\n",
              "      <td>-2.280490</td>\n",
              "      <td>1.628820</td>\n",
              "    </tr>\n",
              "    <tr>\n",
              "      <th>CHIV</th>\n",
              "      <td>0.255193</td>\n",
              "      <td>-0.761204</td>\n",
              "      <td>-1.022350</td>\n",
              "      <td>3.650590</td>\n",
              "      <td>2.465250</td>\n",
              "      <td>-1.188140</td>\n",
              "    </tr>\n",
              "    <tr>\n",
              "      <th>...</th>\n",
              "      <td>...</td>\n",
              "      <td>...</td>\n",
              "      <td>...</td>\n",
              "      <td>...</td>\n",
              "      <td>...</td>\n",
              "      <td>...</td>\n",
              "    </tr>\n",
              "    <tr>\n",
              "      <th>GT</th>\n",
              "      <td>2.494520</td>\n",
              "      <td>-1.424300</td>\n",
              "      <td>-3.922860</td>\n",
              "      <td>5.058650</td>\n",
              "      <td>3.221320</td>\n",
              "      <td>-1.843140</td>\n",
              "    </tr>\n",
              "    <tr>\n",
              "      <th>GT18</th>\n",
              "      <td>0.246712</td>\n",
              "      <td>0.633894</td>\n",
              "      <td>0.379892</td>\n",
              "      <td>3.528580</td>\n",
              "      <td>3.323050</td>\n",
              "      <td>-0.204698</td>\n",
              "    </tr>\n",
              "    <tr>\n",
              "      <th>LOX1</th>\n",
              "      <td>2.653190</td>\n",
              "      <td>0.542016</td>\n",
              "      <td>-2.114000</td>\n",
              "      <td>-1.008330</td>\n",
              "      <td>-0.556431</td>\n",
              "      <td>0.008976</td>\n",
              "    </tr>\n",
              "    <tr>\n",
              "      <th>LOX2</th>\n",
              "      <td>2.364060</td>\n",
              "      <td>3.112600</td>\n",
              "      <td>0.743919</td>\n",
              "      <td>0.704424</td>\n",
              "      <td>0.196137</td>\n",
              "      <td>-0.513449</td>\n",
              "    </tr>\n",
              "    <tr>\n",
              "      <th>LOX3</th>\n",
              "      <td>-3.106910</td>\n",
              "      <td>-1.796660</td>\n",
              "      <td>1.304060</td>\n",
              "      <td>0.000000</td>\n",
              "      <td>4.153708</td>\n",
              "      <td>4.242976</td>\n",
              "    </tr>\n",
              "  </tbody>\n",
              "</table>\n",
              "<p>64 rows × 6 columns</p>\n",
              "</div>\n",
              "    <div class=\"colab-df-buttons\">\n",
              "\n",
              "  <div class=\"colab-df-container\">\n",
              "    <button class=\"colab-df-convert\" onclick=\"convertToInteractive('df-1b36c6a4-e7d4-4010-89d5-020f6edb53ff')\"\n",
              "            title=\"Convert this dataframe to an interactive table.\"\n",
              "            style=\"display:none;\">\n",
              "\n",
              "  <svg xmlns=\"http://www.w3.org/2000/svg\" height=\"24px\" viewBox=\"0 -960 960 960\">\n",
              "    <path d=\"M120-120v-720h720v720H120Zm60-500h600v-160H180v160Zm220 220h160v-160H400v160Zm0 220h160v-160H400v160ZM180-400h160v-160H180v160Zm440 0h160v-160H620v160ZM180-180h160v-160H180v160Zm440 0h160v-160H620v160Z\"/>\n",
              "  </svg>\n",
              "    </button>\n",
              "\n",
              "  <style>\n",
              "    .colab-df-container {\n",
              "      display:flex;\n",
              "      gap: 12px;\n",
              "    }\n",
              "\n",
              "    .colab-df-convert {\n",
              "      background-color: #E8F0FE;\n",
              "      border: none;\n",
              "      border-radius: 50%;\n",
              "      cursor: pointer;\n",
              "      display: none;\n",
              "      fill: #1967D2;\n",
              "      height: 32px;\n",
              "      padding: 0 0 0 0;\n",
              "      width: 32px;\n",
              "    }\n",
              "\n",
              "    .colab-df-convert:hover {\n",
              "      background-color: #E2EBFA;\n",
              "      box-shadow: 0px 1px 2px rgba(60, 64, 67, 0.3), 0px 1px 3px 1px rgba(60, 64, 67, 0.15);\n",
              "      fill: #174EA6;\n",
              "    }\n",
              "\n",
              "    .colab-df-buttons div {\n",
              "      margin-bottom: 4px;\n",
              "    }\n",
              "\n",
              "    [theme=dark] .colab-df-convert {\n",
              "      background-color: #3B4455;\n",
              "      fill: #D2E3FC;\n",
              "    }\n",
              "\n",
              "    [theme=dark] .colab-df-convert:hover {\n",
              "      background-color: #434B5C;\n",
              "      box-shadow: 0px 1px 3px 1px rgba(0, 0, 0, 0.15);\n",
              "      filter: drop-shadow(0px 1px 2px rgba(0, 0, 0, 0.3));\n",
              "      fill: #FFFFFF;\n",
              "    }\n",
              "  </style>\n",
              "\n",
              "    <script>\n",
              "      const buttonEl =\n",
              "        document.querySelector('#df-1b36c6a4-e7d4-4010-89d5-020f6edb53ff button.colab-df-convert');\n",
              "      buttonEl.style.display =\n",
              "        google.colab.kernel.accessAllowed ? 'block' : 'none';\n",
              "\n",
              "      async function convertToInteractive(key) {\n",
              "        const element = document.querySelector('#df-1b36c6a4-e7d4-4010-89d5-020f6edb53ff');\n",
              "        const dataTable =\n",
              "          await google.colab.kernel.invokeFunction('convertToInteractive',\n",
              "                                                    [key], {});\n",
              "        if (!dataTable) return;\n",
              "\n",
              "        const docLinkHtml = 'Like what you see? Visit the ' +\n",
              "          '<a target=\"_blank\" href=https://colab.research.google.com/notebooks/data_table.ipynb>data table notebook</a>'\n",
              "          + ' to learn more about interactive tables.';\n",
              "        element.innerHTML = '';\n",
              "        dataTable['output_type'] = 'display_data';\n",
              "        await google.colab.output.renderOutput(dataTable, element);\n",
              "        const docLink = document.createElement('div');\n",
              "        docLink.innerHTML = docLinkHtml;\n",
              "        element.appendChild(docLink);\n",
              "      }\n",
              "    </script>\n",
              "  </div>\n",
              "\n",
              "\n",
              "<div id=\"df-ec43abcd-3305-40b8-bde4-ac855a78a93e\">\n",
              "  <button class=\"colab-df-quickchart\" onclick=\"quickchart('df-ec43abcd-3305-40b8-bde4-ac855a78a93e')\"\n",
              "            title=\"Suggest charts\"\n",
              "            style=\"display:none;\">\n",
              "\n",
              "<svg xmlns=\"http://www.w3.org/2000/svg\" height=\"24px\"viewBox=\"0 0 24 24\"\n",
              "     width=\"24px\">\n",
              "    <g>\n",
              "        <path d=\"M19 3H5c-1.1 0-2 .9-2 2v14c0 1.1.9 2 2 2h14c1.1 0 2-.9 2-2V5c0-1.1-.9-2-2-2zM9 17H7v-7h2v7zm4 0h-2V7h2v10zm4 0h-2v-4h2v4z\"/>\n",
              "    </g>\n",
              "</svg>\n",
              "  </button>\n",
              "\n",
              "<style>\n",
              "  .colab-df-quickchart {\n",
              "      --bg-color: #E8F0FE;\n",
              "      --fill-color: #1967D2;\n",
              "      --hover-bg-color: #E2EBFA;\n",
              "      --hover-fill-color: #174EA6;\n",
              "      --disabled-fill-color: #AAA;\n",
              "      --disabled-bg-color: #DDD;\n",
              "  }\n",
              "\n",
              "  [theme=dark] .colab-df-quickchart {\n",
              "      --bg-color: #3B4455;\n",
              "      --fill-color: #D2E3FC;\n",
              "      --hover-bg-color: #434B5C;\n",
              "      --hover-fill-color: #FFFFFF;\n",
              "      --disabled-bg-color: #3B4455;\n",
              "      --disabled-fill-color: #666;\n",
              "  }\n",
              "\n",
              "  .colab-df-quickchart {\n",
              "    background-color: var(--bg-color);\n",
              "    border: none;\n",
              "    border-radius: 50%;\n",
              "    cursor: pointer;\n",
              "    display: none;\n",
              "    fill: var(--fill-color);\n",
              "    height: 32px;\n",
              "    padding: 0;\n",
              "    width: 32px;\n",
              "  }\n",
              "\n",
              "  .colab-df-quickchart:hover {\n",
              "    background-color: var(--hover-bg-color);\n",
              "    box-shadow: 0 1px 2px rgba(60, 64, 67, 0.3), 0 1px 3px 1px rgba(60, 64, 67, 0.15);\n",
              "    fill: var(--button-hover-fill-color);\n",
              "  }\n",
              "\n",
              "  .colab-df-quickchart-complete:disabled,\n",
              "  .colab-df-quickchart-complete:disabled:hover {\n",
              "    background-color: var(--disabled-bg-color);\n",
              "    fill: var(--disabled-fill-color);\n",
              "    box-shadow: none;\n",
              "  }\n",
              "\n",
              "  .colab-df-spinner {\n",
              "    border: 2px solid var(--fill-color);\n",
              "    border-color: transparent;\n",
              "    border-bottom-color: var(--fill-color);\n",
              "    animation:\n",
              "      spin 1s steps(1) infinite;\n",
              "  }\n",
              "\n",
              "  @keyframes spin {\n",
              "    0% {\n",
              "      border-color: transparent;\n",
              "      border-bottom-color: var(--fill-color);\n",
              "      border-left-color: var(--fill-color);\n",
              "    }\n",
              "    20% {\n",
              "      border-color: transparent;\n",
              "      border-left-color: var(--fill-color);\n",
              "      border-top-color: var(--fill-color);\n",
              "    }\n",
              "    30% {\n",
              "      border-color: transparent;\n",
              "      border-left-color: var(--fill-color);\n",
              "      border-top-color: var(--fill-color);\n",
              "      border-right-color: var(--fill-color);\n",
              "    }\n",
              "    40% {\n",
              "      border-color: transparent;\n",
              "      border-right-color: var(--fill-color);\n",
              "      border-top-color: var(--fill-color);\n",
              "    }\n",
              "    60% {\n",
              "      border-color: transparent;\n",
              "      border-right-color: var(--fill-color);\n",
              "    }\n",
              "    80% {\n",
              "      border-color: transparent;\n",
              "      border-right-color: var(--fill-color);\n",
              "      border-bottom-color: var(--fill-color);\n",
              "    }\n",
              "    90% {\n",
              "      border-color: transparent;\n",
              "      border-bottom-color: var(--fill-color);\n",
              "    }\n",
              "  }\n",
              "</style>\n",
              "\n",
              "  <script>\n",
              "    async function quickchart(key) {\n",
              "      const quickchartButtonEl =\n",
              "        document.querySelector('#' + key + ' button');\n",
              "      quickchartButtonEl.disabled = true;  // To prevent multiple clicks.\n",
              "      quickchartButtonEl.classList.add('colab-df-spinner');\n",
              "      try {\n",
              "        const charts = await google.colab.kernel.invokeFunction(\n",
              "            'suggestCharts', [key], {});\n",
              "      } catch (error) {\n",
              "        console.error('Error during call to suggestCharts:', error);\n",
              "      }\n",
              "      quickchartButtonEl.classList.remove('colab-df-spinner');\n",
              "      quickchartButtonEl.classList.add('colab-df-quickchart-complete');\n",
              "    }\n",
              "    (() => {\n",
              "      let quickchartButtonEl =\n",
              "        document.querySelector('#df-ec43abcd-3305-40b8-bde4-ac855a78a93e button');\n",
              "      quickchartButtonEl.style.display =\n",
              "        google.colab.kernel.accessAllowed ? 'block' : 'none';\n",
              "    })();\n",
              "  </script>\n",
              "</div>\n",
              "\n",
              "  <div id=\"id_803ff429-c178-4eb1-b188-17e45f13ed7a\">\n",
              "    <style>\n",
              "      .colab-df-generate {\n",
              "        background-color: #E8F0FE;\n",
              "        border: none;\n",
              "        border-radius: 50%;\n",
              "        cursor: pointer;\n",
              "        display: none;\n",
              "        fill: #1967D2;\n",
              "        height: 32px;\n",
              "        padding: 0 0 0 0;\n",
              "        width: 32px;\n",
              "      }\n",
              "\n",
              "      .colab-df-generate:hover {\n",
              "        background-color: #E2EBFA;\n",
              "        box-shadow: 0px 1px 2px rgba(60, 64, 67, 0.3), 0px 1px 3px 1px rgba(60, 64, 67, 0.15);\n",
              "        fill: #174EA6;\n",
              "      }\n",
              "\n",
              "      [theme=dark] .colab-df-generate {\n",
              "        background-color: #3B4455;\n",
              "        fill: #D2E3FC;\n",
              "      }\n",
              "\n",
              "      [theme=dark] .colab-df-generate:hover {\n",
              "        background-color: #434B5C;\n",
              "        box-shadow: 0px 1px 3px 1px rgba(0, 0, 0, 0.15);\n",
              "        filter: drop-shadow(0px 1px 2px rgba(0, 0, 0, 0.3));\n",
              "        fill: #FFFFFF;\n",
              "      }\n",
              "    </style>\n",
              "    <button class=\"colab-df-generate\" onclick=\"generateWithVariable('df')\"\n",
              "            title=\"Generate code using this dataframe.\"\n",
              "            style=\"display:none;\">\n",
              "\n",
              "  <svg xmlns=\"http://www.w3.org/2000/svg\" height=\"24px\"viewBox=\"0 0 24 24\"\n",
              "       width=\"24px\">\n",
              "    <path d=\"M7,19H8.4L18.45,9,17,7.55,7,17.6ZM5,21V16.75L18.45,3.32a2,2,0,0,1,2.83,0l1.4,1.43a1.91,1.91,0,0,1,.58,1.4,1.91,1.91,0,0,1-.58,1.4L9.25,21ZM18.45,9,17,7.55Zm-12,3A5.31,5.31,0,0,0,4.9,8.1,5.31,5.31,0,0,0,1,6.5,5.31,5.31,0,0,0,4.9,4.9,5.31,5.31,0,0,0,6.5,1,5.31,5.31,0,0,0,8.1,4.9,5.31,5.31,0,0,0,12,6.5,5.46,5.46,0,0,0,6.5,12Z\"/>\n",
              "  </svg>\n",
              "    </button>\n",
              "    <script>\n",
              "      (() => {\n",
              "      const buttonEl =\n",
              "        document.querySelector('#id_803ff429-c178-4eb1-b188-17e45f13ed7a button.colab-df-generate');\n",
              "      buttonEl.style.display =\n",
              "        google.colab.kernel.accessAllowed ? 'block' : 'none';\n",
              "\n",
              "      buttonEl.onclick = () => {\n",
              "        google.colab.notebook.generateWithVariable('df');\n",
              "      }\n",
              "      })();\n",
              "    </script>\n",
              "  </div>\n",
              "\n",
              "    </div>\n",
              "  </div>\n"
            ],
            "application/vnd.google.colaboratory.intrinsic+json": {
              "type": "dataframe",
              "variable_name": "df",
              "summary": "{\n  \"name\": \"df\",\n  \"rows\": 64,\n  \"fields\": [\n    {\n      \"column\": \"Gene\",\n      \"properties\": {\n        \"dtype\": \"string\",\n        \"num_unique_values\": 39,\n        \"samples\": [\n          \"GT72B1\",\n          \"LOX1\",\n          \"BG3\"\n        ],\n        \"semantic_type\": \"\",\n        \"description\": \"\"\n      }\n    },\n    {\n      \"column\": \"A\",\n      \"properties\": {\n        \"dtype\": \"number\",\n        \"std\": 4.159331706636723,\n        \"min\": -6.828695043,\n        \"max\": 12.23601419,\n        \"num_unique_values\": 64,\n        \"samples\": [\n          -2.43184,\n          8.754292936,\n          4.5057\n        ],\n        \"semantic_type\": \"\",\n        \"description\": \"\"\n      }\n    },\n    {\n      \"column\": \"B\",\n      \"properties\": {\n        \"dtype\": \"number\",\n        \"std\": 3.0702426662823483,\n        \"min\": -1.79666,\n        \"max\": 11.57210332,\n        \"num_unique_values\": 63,\n        \"samples\": [\n          3.1126,\n          7.509038626,\n          3.26036\n        ],\n        \"semantic_type\": \"\",\n        \"description\": \"\"\n      }\n    },\n    {\n      \"column\": \"C\",\n      \"properties\": {\n        \"dtype\": \"number\",\n        \"std\": 3.7698861762816245,\n        \"min\": -8.741659108,\n        \"max\": 12.72465453,\n        \"num_unique_values\": 64,\n        \"samples\": [\n          2.27991,\n          -1.3259,\n          -1.2494\n        ],\n        \"semantic_type\": \"\",\n        \"description\": \"\"\n      }\n    },\n    {\n      \"column\": \"D\",\n      \"properties\": {\n        \"dtype\": \"number\",\n        \"std\": 3.0870926866129813,\n        \"min\": -4.46464,\n        \"max\": 9.0243,\n        \"num_unique_values\": 61,\n        \"samples\": [\n          8.89807,\n          3.72963,\n          1.2096\n        ],\n        \"semantic_type\": \"\",\n        \"description\": \"\"\n      }\n    },\n    {\n      \"column\": \"E\",\n      \"properties\": {\n        \"dtype\": \"number\",\n        \"std\": 3.2185526661539337,\n        \"min\": -5.263500201,\n        \"max\": 12.18242539,\n        \"num_unique_values\": 64,\n        \"samples\": [\n          -1.53959,\n          6.87832,\n          8.05955\n        ],\n        \"semantic_type\": \"\",\n        \"description\": \"\"\n      }\n    },\n    {\n      \"column\": \"F\",\n      \"properties\": {\n        \"dtype\": \"number\",\n        \"std\": 2.233755933692811,\n        \"min\": -6.29946,\n        \"max\": 4.59208,\n        \"num_unique_values\": 62,\n        \"samples\": [\n          -1.33858,\n          -0.77955,\n          -0.842803\n        ],\n        \"semantic_type\": \"\",\n        \"description\": \"\"\n      }\n    }\n  ]\n}"
            }
          },
          "metadata": {},
          "execution_count": 53
        }
      ]
    },
    {
      "cell_type": "code",
      "source": [
        "sns.clustermap(df, z_score = 0, cmap = \"coolwarm\")"
      ],
      "metadata": {
        "colab": {
          "base_uri": "https://localhost:8080/",
          "height": 1000
        },
        "id": "Xh0GFSu2HL7B",
        "outputId": "2750e774-e014-4f4a-c011-fe7db7fd0d8e"
      },
      "execution_count": null,
      "outputs": [
        {
          "output_type": "execute_result",
          "data": {
            "text/plain": [
              "<seaborn.matrix.ClusterGrid at 0x7a13400c5f90>"
            ]
          },
          "metadata": {},
          "execution_count": 54
        },
        {
          "output_type": "display_data",
          "data": {
            "text/plain": [
              "<Figure size 1000x1000 with 4 Axes>"
            ],
            "image/png": "[encoded data removed]"
          },
          "metadata": {}
        }
      ]
    },
    {
      "cell_type": "code",
      "source": [],
      "metadata": {
        "id": "PkE_eSOeHL48"
      },
      "execution_count": null,
      "outputs": []
    },
    {
      "cell_type": "code",
      "source": [
        "import pandas as pd\n",
        "import matplotlib.pyplot as plt\n",
        "import numpy as np\n",
        "\n",
        "data = pd.read_csv(\"https://raw.githubusercontent.com/LuisPerezTimana/Taller/refs/heads/main/data_covid.csv\", sep = \";\")\n",
        "\n",
        "rango = []\n",
        "rango_fechas = pd.date_range(data.date[0], data.date[len(data.date)-1], periods = 4)\n",
        "\n",
        "for i in list(rango_fechas):\n",
        "    rango += [str(i)[:10]]\n",
        "\n",
        "from matplotlib.ticker import AutoMinorLocator, FixedLocator\n",
        "\n",
        "fig = plt.figure()\n",
        "ax = fig.add_subplot(111)\n",
        "\n",
        "prop = data.new_deaths.max()/data.people_vaccinated.max()\n",
        "\n",
        "ax.plot(data.index, data.new_deaths, color = \"#F25A38\", linewidth = 0.7, label = \"Daily deaths\")\n",
        "ax.fill_between(data.index, data.people_vaccinated*prop, color = \"#F2DFEB\", label = \"Cummulative people\\nvaccinated per million\")\n",
        "ax.set_ylabel(\"Daily deaths\")\n",
        "ax.set_xlabel(\"Date\")\n",
        "\n",
        "secax = ax.secondary_yaxis(\"right\", functions = (lambda x: x/prop/1000000, lambda x: x/prop/1000000))\n",
        "secax.set_ylabel(\"Cummulative people\\nvaccinated per million\")\n",
        "ax.set_xticks(np.linspace(0, len(data.index), 4))\n",
        "ax.set_xticklabels(rango)\n",
        "\n",
        "ax.legend(bbox_to_anchor = (1.61, 0.7))\n",
        "\n",
        "ax.xaxis.set_minor_locator(AutoMinorLocator(4))\n",
        "\n",
        "ax.spines[\"top\"].set_color(\"none\")\n",
        "\n",
        "plt.grid(linestyle = \"dashed\", color = \"#BBBBBB\", which = \"minor\")\n",
        "plt.grid(linestyle = \"dashed\", color = \"#BBBBBB\", which = \"major\")\n",
        "plt.show()"
      ],
      "metadata": {
        "colab": {
          "base_uri": "https://localhost:8080/",
          "height": 449
        },
        "id": "dpP5HkycHL22",
        "outputId": "3bb84e22-e14a-4765-bd7c-fa3ee462c929"
      },
      "execution_count": null,
      "outputs": [
        {
          "output_type": "display_data",
          "data": {
            "text/plain": [
              "<Figure size 640x480 with 1 Axes>"
            ],
            "image/png": "[encoded data removed]"
          },
          "metadata": {}
        }
      ]
    },
    {
      "cell_type": "markdown",
      "source": [],
      "metadata": {
        "id": "ole4EwstGgux"
      }
    },
    {
      "cell_type": "code",
      "source": [],
      "metadata": {
        "id": "hDZOZXdaGjfG"
      },
      "execution_count": null,
      "outputs": []
    },
    {
      "cell_type": "markdown",
      "source": [],
      "metadata": {
        "id": "IXK8bissGlQm"
      }
    },
    {
      "cell_type": "markdown",
      "source": [],
      "metadata": {
        "id": "6wzfnSftGljP"
      }
    },
    {
      "cell_type": "code",
      "source": [
        "Pais = [\"Colombia\", \"Ecuador\", \"Peru\", \"Brasil\", \"Venezuela\"]\n",
        "Especie1 = [21, 12, 34, 49, 31]\n",
        "Especie2 = [10, 23, 73, 16, 24]\n",
        "\n",
        "fig = plt.figure(figsize = (7, 7))\n",
        "ax = fig.add_subplot(111)\n",
        "\n",
        "ax.bar(Pais, Especie1, label = \"Especie1\")\n",
        "ax.bar(Pais, -pd.Series(Especie2), label = \"Especie2\")\n",
        "\n",
        "for x, y in zip(Pais, Especie1):\n",
        "    ax.text(x, y, y, ha = \"center\", va = \"bottom\")\n",
        "\n",
        "for x, y in zip(Pais, Especie2):\n",
        "    ax.text(x, -y-5, y, ha = \"center\", va = \"bottom\")\n",
        "\n",
        "ax.legend(bbox_to_anchor = (1.3, 0.5))\n",
        "\n",
        "ax.spines[\"top\"].set_color(\"none\")\n",
        "ax.spines[\"right\"].set_color(\"none\")\n",
        "ax.spines[\"bottom\"].set_position((\"data\", 0))\n",
        "\n",
        "ax.set_yticks(range(-100, 100, 25))\n",
        "ax.set_yticklabels(np.abs(range(-100, 100, 25)))\n",
        "\n",
        "plt.show()\n"
      ],
      "metadata": {
        "colab": {
          "base_uri": "https://localhost:8080/",
          "height": 590
        },
        "id": "oS3WA9noHL0g",
        "outputId": "2faa53bc-4699-491a-901b-a826a9ba7f7b"
      },
      "execution_count": null,
      "outputs": [
        {
          "output_type": "display_data",
          "data": {
            "text/plain": [
              "<Figure size 700x700 with 1 Axes>"
            ],
            "image/png": "[encoded data removed]"
          },
          "metadata": {}
        }
      ]
    },
    {
      "cell_type": "code",
      "source": [
        "mu, sigma = 100, 15\n",
        "\n",
        "x = mu + sigma*np.random.randn(100000)\n",
        "\n",
        "fig = plt.figure()\n",
        "ax = fig.add_subplot(111)\n",
        "\n",
        "n, bins, patche = ax.hist(x, facecolor = \"green\", edgecolor = \"black\", alpha = 0.5, bins = 25,\n",
        "       density = True)\n",
        "\n",
        "\n",
        "y = ( (1/ (np.sqrt(2*np.pi)*sigma)) * np.exp(-0.5*(1/sigma*(bins-mu))**2))\n",
        "\n",
        "ax.plot(bins, y, \"r--\")\n",
        "\n",
        "plt.show()"
      ],
      "metadata": {
        "colab": {
          "base_uri": "https://localhost:8080/",
          "height": 430
        },
        "id": "MtAgF0BYHLyL",
        "outputId": "8afe8d68-461c-4317-c599-1ff9d9495996"
      },
      "execution_count": null,
      "outputs": [
        {
          "output_type": "display_data",
          "data": {
            "text/plain": [
              "<Figure size 640x480 with 1 Axes>"
            ],
            "image/png": "[encoded data removed]"
          },
          "metadata": {}
        }
      ]
    },
    {
      "cell_type": "code",
      "source": [],
      "metadata": {
        "id": "PITuJIzBHLrK"
      },
      "execution_count": null,
      "outputs": []
    }
  ]
}